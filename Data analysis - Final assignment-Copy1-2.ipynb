{
 "cells": [
  {
   "cell_type": "markdown",
   "id": "262ed441-1e2f-4f23-af4e-3c1c0f6dc002",
   "metadata": {},
   "source": [
    "# Pandas Test - Real life Exercise"
   ]
  },
  {
   "cell_type": "code",
   "execution_count": 10,
   "id": "e24b34ca-0a21-4dc6-92e4-4b16bcbd5a98",
   "metadata": {},
   "outputs": [],
   "source": [
    "import pandas as pd"
   ]
  },
  {
   "cell_type": "markdown",
   "id": "ad46fe63-39ad-4b03-b6b6-623586b94d45",
   "metadata": {},
   "source": [
    "For visualizations:"
   ]
  },
  {
   "cell_type": "code",
   "execution_count": 11,
   "id": "58bd46da-da6c-44d0-903f-19be230836e5",
   "metadata": {},
   "outputs": [
    {
     "data": {
      "text/html": [
       "        <script type=\"text/javascript\">\n",
       "        window.PlotlyConfig = {MathJaxConfig: 'local'};\n",
       "        if (window.MathJax && window.MathJax.Hub && window.MathJax.Hub.Config) {window.MathJax.Hub.Config({SVG: {font: \"STIX-Web\"}});}\n",
       "        if (typeof require !== 'undefined') {\n",
       "        require.undef(\"plotly\");\n",
       "        requirejs.config({\n",
       "            paths: {\n",
       "                'plotly': ['https://cdn.plot.ly/plotly-2.12.1.min']\n",
       "            }\n",
       "        });\n",
       "        require(['plotly'], function(Plotly) {\n",
       "            window._Plotly = Plotly;\n",
       "        });\n",
       "        }\n",
       "        </script>\n",
       "        "
      ]
     },
     "metadata": {},
     "output_type": "display_data"
    }
   ],
   "source": [
    "import cufflinks as cf; cf.go_offline()\n",
    "import plotly_express as px"
   ]
  },
  {
   "cell_type": "markdown",
   "id": "2685b7b6-1a31-451b-a1e8-f29c1513b697",
   "metadata": {},
   "source": [
    "## About the data"
   ]
  },
  {
   "cell_type": "markdown",
   "id": "5453d0d4-f625-41df-942e-ff2f5cf0f993",
   "metadata": {},
   "source": [
    "The data you are about to load is coming from an Ad recommentation system of the company InBrain. InBrain is a adTech company and specalize in next-level ad recommendation.  \n",
    "The company has two major products - one giving high quality recommendation while the other is giving an highly yielding recommendation. Inbrain custormers are sending requests, asking for either of the products. \n",
    "\n",
    "Once a week, the company is doing an internal quality assements, and sends a sample of its traffic requests to external annotation process, in which the annotators are trained to manually decided whether the recommended Ad is a succes or not. The data contains information about the ad (**ad_id**), the sampled week (**week_id**), the requester company (**requester**), the region of operation (**region**), the recommendation type (Quality/Yield, **recommendation_type**) and the recommendation provider algorithm (**rec_provider**). The annotators are marking whether the recommendation is meeting the Quality/Yield standards (**is_success**) and whether or not the recommendation is severly defected (**is_sever**)\n",
    "\n",
    "See a sample below:"
   ]
  },
  {
   "cell_type": "code",
   "execution_count": 12,
   "id": "71b69819-00b8-4612-bd2f-49bab7b7ab13",
   "metadata": {},
   "outputs": [
    {
     "data": {
      "text/html": [
       "<div>\n",
       "<style scoped>\n",
       "    .dataframe tbody tr th:only-of-type {\n",
       "        vertical-align: middle;\n",
       "    }\n",
       "\n",
       "    .dataframe tbody tr th {\n",
       "        vertical-align: top;\n",
       "    }\n",
       "\n",
       "    .dataframe thead th {\n",
       "        text-align: right;\n",
       "    }\n",
       "</style>\n",
       "<table border=\"1\" class=\"dataframe\">\n",
       "  <thead>\n",
       "    <tr style=\"text-align: right;\">\n",
       "      <th></th>\n",
       "      <th>week_id</th>\n",
       "      <th>ad_id</th>\n",
       "      <th>requester</th>\n",
       "      <th>region</th>\n",
       "      <th>is_success</th>\n",
       "      <th>is_sever</th>\n",
       "      <th>recommendation_type</th>\n",
       "      <th>rec_provider</th>\n",
       "    </tr>\n",
       "  </thead>\n",
       "  <tbody>\n",
       "    <tr>\n",
       "      <th>157047</th>\n",
       "      <td>2021-week_43</td>\n",
       "      <td>AD088K888</td>\n",
       "      <td>Sensor Tower</td>\n",
       "      <td>US</td>\n",
       "      <td>yes</td>\n",
       "      <td>NaN</td>\n",
       "      <td>Qality</td>\n",
       "      <td>DNNQ</td>\n",
       "    </tr>\n",
       "    <tr>\n",
       "      <th>215481</th>\n",
       "      <td>2021-week_47</td>\n",
       "      <td>AD07N88FV8</td>\n",
       "      <td>Extreme DA</td>\n",
       "      <td>US</td>\n",
       "      <td>yes</td>\n",
       "      <td>NaN</td>\n",
       "      <td>Yield</td>\n",
       "      <td>RNNY</td>\n",
       "    </tr>\n",
       "    <tr>\n",
       "      <th>317518</th>\n",
       "      <td>2022-week_04</td>\n",
       "      <td>AD07CGPK9W</td>\n",
       "      <td>Search Million Culture</td>\n",
       "      <td>GB</td>\n",
       "      <td>yes</td>\n",
       "      <td>NaN</td>\n",
       "      <td>Qality</td>\n",
       "      <td>DNNQ</td>\n",
       "    </tr>\n",
       "    <tr>\n",
       "      <th>106652</th>\n",
       "      <td>2021-week_40</td>\n",
       "      <td>AD08L89VM8</td>\n",
       "      <td>OpenDesks, Inc.</td>\n",
       "      <td>IN</td>\n",
       "      <td>yes</td>\n",
       "      <td>NaN</td>\n",
       "      <td>Yield</td>\n",
       "      <td>UserPopY</td>\n",
       "    </tr>\n",
       "    <tr>\n",
       "      <th>295357</th>\n",
       "      <td>2022-week_02</td>\n",
       "      <td>AD008XON6T</td>\n",
       "      <td>RelayFoods</td>\n",
       "      <td>JP</td>\n",
       "      <td>yes</td>\n",
       "      <td>NaN</td>\n",
       "      <td>Qality</td>\n",
       "      <td>DNNQ</td>\n",
       "    </tr>\n",
       "  </tbody>\n",
       "</table>\n",
       "</div>"
      ],
      "text/plain": [
       "             week_id       ad_id               requester region is_success  \\\n",
       "157047  2021-week_43   AD088K888            Sensor Tower     US        yes   \n",
       "215481  2021-week_47  AD07N88FV8              Extreme DA     US        yes   \n",
       "317518  2022-week_04  AD07CGPK9W  Search Million Culture     GB        yes   \n",
       "106652  2021-week_40  AD08L89VM8         OpenDesks, Inc.     IN        yes   \n",
       "295357  2022-week_02  AD008XON6T              RelayFoods     JP        yes   \n",
       "\n",
       "       is_sever recommendation_type rec_provider  \n",
       "157047      NaN              Qality         DNNQ  \n",
       "215481      NaN               Yield         RNNY  \n",
       "317518      NaN              Qality         DNNQ  \n",
       "106652      NaN               Yield     UserPopY  \n",
       "295357      NaN              Qality         DNNQ  "
      ]
     },
     "execution_count": 12,
     "metadata": {},
     "output_type": "execute_result"
    }
   ],
   "source": [
    "ad_recs_annotated = pd.read_csv('data/Final assigment/ad_annotations.csv')\n",
    "ad_recs_annotated.sample(5)"
   ]
  },
  {
   "cell_type": "code",
   "execution_count": 13,
   "id": "34b5026b-6a2d-4108-ae10-cc7cc4fa76ef",
   "metadata": {},
   "outputs": [],
   "source": [
    "most_pop_ad = ad_recs_annotated.ad_id.value_counts().idxmax()\n"
   ]
  },
  {
   "cell_type": "code",
   "execution_count": 14,
   "id": "8762e1c3-b7bf-40a5-8e53-2e10c16ff1dd",
   "metadata": {},
   "outputs": [
    {
     "data": {
      "text/plain": [
       "'ad_id == \"AD07PFFMP9\"'"
      ]
     },
     "execution_count": 14,
     "metadata": {},
     "output_type": "execute_result"
    }
   ],
   "source": [
    "q = f'ad_id == \"{most_pop_ad}\"'\n",
    "q"
   ]
  },
  {
   "cell_type": "code",
   "execution_count": 15,
   "id": "ce93a9cd-d9be-44ff-9314-45a1082af1f5",
   "metadata": {},
   "outputs": [
    {
     "data": {
      "text/html": [
       "<div>\n",
       "<style scoped>\n",
       "    .dataframe tbody tr th:only-of-type {\n",
       "        vertical-align: middle;\n",
       "    }\n",
       "\n",
       "    .dataframe tbody tr th {\n",
       "        vertical-align: top;\n",
       "    }\n",
       "\n",
       "    .dataframe thead th {\n",
       "        text-align: right;\n",
       "    }\n",
       "</style>\n",
       "<table border=\"1\" class=\"dataframe\">\n",
       "  <thead>\n",
       "    <tr style=\"text-align: right;\">\n",
       "      <th></th>\n",
       "      <th>week_id</th>\n",
       "      <th>ad_id</th>\n",
       "      <th>requester</th>\n",
       "      <th>region</th>\n",
       "      <th>is_success</th>\n",
       "      <th>is_sever</th>\n",
       "      <th>recommendation_type</th>\n",
       "      <th>rec_provider</th>\n",
       "    </tr>\n",
       "  </thead>\n",
       "  <tbody>\n",
       "    <tr>\n",
       "      <th>372143</th>\n",
       "      <td>2022-week_52</td>\n",
       "      <td>AD09H6SK6C</td>\n",
       "      <td>Extreme DA</td>\n",
       "      <td>US</td>\n",
       "      <td>no</td>\n",
       "      <td>False</td>\n",
       "      <td>Yield</td>\n",
       "      <td>RuleBasedY</td>\n",
       "    </tr>\n",
       "  </tbody>\n",
       "</table>\n",
       "</div>"
      ],
      "text/plain": [
       "             week_id       ad_id   requester region is_success is_sever  \\\n",
       "372143  2022-week_52  AD09H6SK6C  Extreme DA     US         no    False   \n",
       "\n",
       "       recommendation_type rec_provider  \n",
       "372143               Yield   RuleBasedY  "
      ]
     },
     "execution_count": 15,
     "metadata": {},
     "output_type": "execute_result"
    }
   ],
   "source": [
    "ad_recs_annotated.query(\"ad_id == 'AD09H6SK6C'& is_success=='no'\")"
   ]
  },
  {
   "cell_type": "markdown",
   "id": "f4413766-e8bf-4f14-94e0-f58cfb88bb07",
   "metadata": {},
   "source": [
    "Your job, as the new and only data scientist of the company, is to get familiar with the the data, show week-over-week trends and produce insightfull graphs as a preparation to a full blown BI dashboard."
   ]
  },
  {
   "cell_type": "markdown",
   "id": "97faa00a-e0e3-47c0-bb8e-b3f72e1f0cb1",
   "metadata": {},
   "source": [
    "## Questions"
   ]
  },
  {
   "cell_type": "markdown",
   "id": "c0ed5ec1-d7b3-49a6-bf12-29420eab3a67",
   "metadata": {},
   "source": [
    "### Data Modifications"
   ]
  },
  {
   "cell_type": "markdown",
   "id": "8db18aad-c8b8-4fd4-994f-c008f279e1f6",
   "metadata": {},
   "source": [
    "1. Add a column with the sample year\n",
    "1. Add a column with the sample quarter (google how to)\n",
    "1. Add a new success column with values 1 and 0 for yes and no \n",
    "1. Are there any NaNs in the is_sever column? Count how many and create a new column with NaNs filled as False. Check that indeed the new column contaion no NaNs. \n",
    "1. Capitlize (first letter only) the is_success column (Inplace)"
   ]
  },
  {
   "cell_type": "markdown",
   "id": "8197abcd-b20f-4e52-8fa3-6dc7449fa4db",
   "metadata": {},
   "source": [
    "### Q1"
   ]
  },
  {
   "cell_type": "code",
   "execution_count": 16,
   "id": "16f8b4ea-128c-4ef1-b042-7677b36c20ad",
   "metadata": {},
   "outputs": [
    {
     "data": {
      "text/html": [
       "<div>\n",
       "<style scoped>\n",
       "    .dataframe tbody tr th:only-of-type {\n",
       "        vertical-align: middle;\n",
       "    }\n",
       "\n",
       "    .dataframe tbody tr th {\n",
       "        vertical-align: top;\n",
       "    }\n",
       "\n",
       "    .dataframe thead th {\n",
       "        text-align: right;\n",
       "    }\n",
       "</style>\n",
       "<table border=\"1\" class=\"dataframe\">\n",
       "  <thead>\n",
       "    <tr style=\"text-align: right;\">\n",
       "      <th></th>\n",
       "      <th>week_id</th>\n",
       "      <th>ad_id</th>\n",
       "      <th>requester</th>\n",
       "      <th>region</th>\n",
       "      <th>is_success</th>\n",
       "      <th>is_sever</th>\n",
       "      <th>recommendation_type</th>\n",
       "      <th>rec_provider</th>\n",
       "      <th>year</th>\n",
       "    </tr>\n",
       "  </thead>\n",
       "  <tbody>\n",
       "    <tr>\n",
       "      <th>0</th>\n",
       "      <td>2021-week_33</td>\n",
       "      <td>AD0088VOS</td>\n",
       "      <td>Search Million Culture</td>\n",
       "      <td>DE</td>\n",
       "      <td>yes</td>\n",
       "      <td>NaN</td>\n",
       "      <td>Qality</td>\n",
       "      <td>DNNQ</td>\n",
       "      <td>2021</td>\n",
       "    </tr>\n",
       "    <tr>\n",
       "      <th>1</th>\n",
       "      <td>2021-week_33</td>\n",
       "      <td>AD07KYS8JM</td>\n",
       "      <td>MoJoe Brewing Company</td>\n",
       "      <td>DE</td>\n",
       "      <td>yes</td>\n",
       "      <td>NaN</td>\n",
       "      <td>Yield</td>\n",
       "      <td>DNNY</td>\n",
       "      <td>2021</td>\n",
       "    </tr>\n",
       "    <tr>\n",
       "      <th>2</th>\n",
       "      <td>2021-week_33</td>\n",
       "      <td>AD08PDP6Y9</td>\n",
       "      <td>Search Million Culture</td>\n",
       "      <td>DE</td>\n",
       "      <td>yes</td>\n",
       "      <td>NaN</td>\n",
       "      <td>Qality</td>\n",
       "      <td>DNNQ</td>\n",
       "      <td>2021</td>\n",
       "    </tr>\n",
       "    <tr>\n",
       "      <th>3</th>\n",
       "      <td>2021-week_33</td>\n",
       "      <td>AD89608808</td>\n",
       "      <td>Search Million Culture</td>\n",
       "      <td>DE</td>\n",
       "      <td>yes</td>\n",
       "      <td>NaN</td>\n",
       "      <td>Qality</td>\n",
       "      <td>BooksQ</td>\n",
       "      <td>2021</td>\n",
       "    </tr>\n",
       "    <tr>\n",
       "      <th>4</th>\n",
       "      <td>2021-week_33</td>\n",
       "      <td>AD07CMVHP6</td>\n",
       "      <td>Search Million Culture</td>\n",
       "      <td>DE</td>\n",
       "      <td>yes</td>\n",
       "      <td>NaN</td>\n",
       "      <td>Qality</td>\n",
       "      <td>DNNQ</td>\n",
       "      <td>2021</td>\n",
       "    </tr>\n",
       "    <tr>\n",
       "      <th>...</th>\n",
       "      <td>...</td>\n",
       "      <td>...</td>\n",
       "      <td>...</td>\n",
       "      <td>...</td>\n",
       "      <td>...</td>\n",
       "      <td>...</td>\n",
       "      <td>...</td>\n",
       "      <td>...</td>\n",
       "      <td>...</td>\n",
       "    </tr>\n",
       "    <tr>\n",
       "      <th>373783</th>\n",
       "      <td>2022-week_52</td>\n",
       "      <td>AD08KQ8GDG</td>\n",
       "      <td>Extreme DA</td>\n",
       "      <td>US</td>\n",
       "      <td>yes</td>\n",
       "      <td>NaN</td>\n",
       "      <td>Yield</td>\n",
       "      <td>DNNY</td>\n",
       "      <td>2022</td>\n",
       "    </tr>\n",
       "    <tr>\n",
       "      <th>373784</th>\n",
       "      <td>2022-week_52</td>\n",
       "      <td>AD07C8XSMN</td>\n",
       "      <td>Fancy</td>\n",
       "      <td>US</td>\n",
       "      <td>yes</td>\n",
       "      <td>NaN</td>\n",
       "      <td>Qality</td>\n",
       "      <td>RNNQ</td>\n",
       "      <td>2022</td>\n",
       "    </tr>\n",
       "    <tr>\n",
       "      <th>373785</th>\n",
       "      <td>2022-week_52</td>\n",
       "      <td>AD096LRR88</td>\n",
       "      <td>Extreme DA</td>\n",
       "      <td>US</td>\n",
       "      <td>yes</td>\n",
       "      <td>NaN</td>\n",
       "      <td>Yield</td>\n",
       "      <td>DNNY</td>\n",
       "      <td>2022</td>\n",
       "    </tr>\n",
       "    <tr>\n",
       "      <th>373786</th>\n",
       "      <td>2022-week_52</td>\n",
       "      <td>AD08FWNFDO</td>\n",
       "      <td>RelayFoods</td>\n",
       "      <td>US</td>\n",
       "      <td>yes</td>\n",
       "      <td>NaN</td>\n",
       "      <td>Qality</td>\n",
       "      <td>DNNQ</td>\n",
       "      <td>2022</td>\n",
       "    </tr>\n",
       "    <tr>\n",
       "      <th>373787</th>\n",
       "      <td>2022-week_52</td>\n",
       "      <td>AD00NATC8M</td>\n",
       "      <td>Tab Solutions</td>\n",
       "      <td>US</td>\n",
       "      <td>yes</td>\n",
       "      <td>NaN</td>\n",
       "      <td>Qality</td>\n",
       "      <td>DNNQ</td>\n",
       "      <td>2022</td>\n",
       "    </tr>\n",
       "  </tbody>\n",
       "</table>\n",
       "<p>373788 rows × 9 columns</p>\n",
       "</div>"
      ],
      "text/plain": [
       "             week_id       ad_id               requester region is_success  \\\n",
       "0       2021-week_33   AD0088VOS  Search Million Culture     DE        yes   \n",
       "1       2021-week_33  AD07KYS8JM   MoJoe Brewing Company     DE        yes   \n",
       "2       2021-week_33  AD08PDP6Y9  Search Million Culture     DE        yes   \n",
       "3       2021-week_33  AD89608808  Search Million Culture     DE        yes   \n",
       "4       2021-week_33  AD07CMVHP6  Search Million Culture     DE        yes   \n",
       "...              ...         ...                     ...    ...        ...   \n",
       "373783  2022-week_52  AD08KQ8GDG              Extreme DA     US        yes   \n",
       "373784  2022-week_52  AD07C8XSMN                   Fancy     US        yes   \n",
       "373785  2022-week_52  AD096LRR88              Extreme DA     US        yes   \n",
       "373786  2022-week_52  AD08FWNFDO              RelayFoods     US        yes   \n",
       "373787  2022-week_52  AD00NATC8M           Tab Solutions     US        yes   \n",
       "\n",
       "       is_sever recommendation_type rec_provider  year  \n",
       "0           NaN              Qality         DNNQ  2021  \n",
       "1           NaN               Yield         DNNY  2021  \n",
       "2           NaN              Qality         DNNQ  2021  \n",
       "3           NaN              Qality       BooksQ  2021  \n",
       "4           NaN              Qality         DNNQ  2021  \n",
       "...         ...                 ...          ...   ...  \n",
       "373783      NaN               Yield         DNNY  2022  \n",
       "373784      NaN              Qality         RNNQ  2022  \n",
       "373785      NaN               Yield         DNNY  2022  \n",
       "373786      NaN              Qality         DNNQ  2022  \n",
       "373787      NaN              Qality         DNNQ  2022  \n",
       "\n",
       "[373788 rows x 9 columns]"
      ]
     },
     "execution_count": 16,
     "metadata": {},
     "output_type": "execute_result"
    }
   ],
   "source": [
    "#ADD YEAR \n",
    "type(ad_recs_annotated)\n",
    "ad_recs_annotated['year']=ad_recs_annotated['week_id'].apply(lambda x: x.split('-')[0])\n",
    "ad_recs_annotated"
   ]
  },
  {
   "cell_type": "markdown",
   "id": "d80f33ac-fc66-4c62-99d0-89e5dd3d3d7f",
   "metadata": {},
   "source": [
    "### Q2"
   ]
  },
  {
   "cell_type": "code",
   "execution_count": 17,
   "id": "4c22911d-6614-421c-83d1-ad2895ec9d87",
   "metadata": {},
   "outputs": [
    {
     "data": {
      "text/plain": [
       "0         33\n",
       "1         33\n",
       "2         33\n",
       "3         33\n",
       "4         33\n",
       "          ..\n",
       "373783    52\n",
       "373784    52\n",
       "373785    52\n",
       "373786    52\n",
       "373787    52\n",
       "Name: week, Length: 373788, dtype: object"
      ]
     },
     "execution_count": 17,
     "metadata": {},
     "output_type": "execute_result"
    }
   ],
   "source": [
    "#ad_recs_annotated['week']=\n",
    "ad_recs_annotated['week']=ad_recs_annotated['week_id'].apply(lambda x: x.split('_')[1])\n",
    "ad_recs_annotated['week']"
   ]
  },
  {
   "cell_type": "markdown",
   "id": "de688144-e858-487b-af9f-99faa7a4b358",
   "metadata": {},
   "source": [
    "### Q3"
   ]
  },
  {
   "cell_type": "code",
   "execution_count": 18,
   "id": "a37c10de-2aec-46fe-bfa7-aa50302ebb85",
   "metadata": {},
   "outputs": [
    {
     "data": {
      "text/plain": [
       "0         False\n",
       "1         False\n",
       "2         False\n",
       "3         False\n",
       "4         False\n",
       "          ...  \n",
       "373783    False\n",
       "373784    False\n",
       "373785    False\n",
       "373786    False\n",
       "373787    False\n",
       "Name: is_success, Length: 373788, dtype: bool"
      ]
     },
     "execution_count": 18,
     "metadata": {},
     "output_type": "execute_result"
    }
   ],
   "source": [
    "ad_recs_annotated['success']=ad_recs_annotated['is_success'].apply(lambda x: 1 if x=='yes' else 0)\n",
    "ad_recs_annotated['success']\n",
    "ad_recs_annotated['is_success'].apply(lambda x:x is None)\n"
   ]
  },
  {
   "cell_type": "code",
   "execution_count": 19,
   "id": "f511e174-40b7-4eb8-a037-f02bdfbac50f",
   "metadata": {},
   "outputs": [
    {
     "data": {
      "text/plain": [
       "[]"
      ]
     },
     "execution_count": 19,
     "metadata": {},
     "output_type": "execute_result"
    }
   ],
   "source": [
    "[x for x in ad_recs_annotated['is_sever'].value_counts().apply(lambda x:x is None) if x==True]"
   ]
  },
  {
   "cell_type": "code",
   "execution_count": 20,
   "id": "cfa66fbd-ae08-4718-ae43-277b0e6c8c2a",
   "metadata": {},
   "outputs": [
    {
     "data": {
      "text/plain": [
       "0         Yes\n",
       "1         Yes\n",
       "2         Yes\n",
       "3         Yes\n",
       "4         Yes\n",
       "         ... \n",
       "373783    Yes\n",
       "373784    Yes\n",
       "373785    Yes\n",
       "373786    Yes\n",
       "373787    Yes\n",
       "Name: is_success, Length: 373788, dtype: object"
      ]
     },
     "execution_count": 20,
     "metadata": {},
     "output_type": "execute_result"
    }
   ],
   "source": [
    "ad_recs_annotated['is_success'].apply(lambda x: x.capitalize())"
   ]
  },
  {
   "cell_type": "markdown",
   "id": "e1a4707e-5673-4bec-bf9a-51aaf633b09f",
   "metadata": {},
   "source": [
    "### Subset selection"
   ]
  },
  {
   "cell_type": "markdown",
   "id": "6e4087a0-8706-471d-ae78-d9c47534f6b8",
   "metadata": {},
   "source": [
    "for each question, sub-select the data by using the conditional selection (`[]`) and the `.query` API. Use `.shape` on the subselection to obtain the result.  \n",
    "For example:\n",
    "`df.query('some_condition').shape`"
   ]
  },
  {
   "cell_type": "markdown",
   "id": "df326ef2-83c4-400f-bb51-f47db2401ee3",
   "metadata": {},
   "source": [
    "1. How many requests are there in US region? \n",
    "1. How many **successful** requests are there in US region? \n",
    "1. How many **successful** requests are there in US region, on week 52?\n",
    "1. How many requests where delivered by DNNQ, RNNY and UserPopQ together? \n",
    "1. How many requests where delivered by rule based providers? \n",
    "1. Select only the requests from 2021 - How many are there? \n",
    "1. Select the reqeusts from week 30 to week 40 - How many are there? \n",
    "1. Select all the data that comes from the most popular Ad\n",
    "1. Select all the data that comes from the least popular provider\n",
    "1. Select the data in which is_sever is None. How big is it? \n",
    "1. Select the data in which the requester is a 3 word company\n",
    "1. Select the data in which the requester is a 3 word company, and the ad_id has the letter 6 in it\n",
    "1. Select the data in which the requester is a 3 word company, and the multiplication of all the numbers in the ad_id is bigger than 30"
   ]
  },
  {
   "cell_type": "markdown",
   "id": "7b2f463f-55f9-4282-abbb-cb09758a2b1e",
   "metadata": {},
   "source": [
    "### Q1"
   ]
  },
  {
   "cell_type": "code",
   "execution_count": 21,
   "id": "57abf2f5-746d-4a47-a1f6-306e0acc621b",
   "metadata": {},
   "outputs": [
    {
     "data": {
      "text/plain": [
       "(103846, 11)"
      ]
     },
     "execution_count": 21,
     "metadata": {},
     "output_type": "execute_result"
    }
   ],
   "source": [
    "ad_recs_annotated.query(\"region =='US'\").region.value_counts()\n",
    "ad_recs_annotated.query(\"region =='US'\").shape"
   ]
  },
  {
   "cell_type": "markdown",
   "id": "c366619b-c57c-419d-98a3-8bb8d83e308a",
   "metadata": {},
   "source": [
    "### Q2"
   ]
  },
  {
   "cell_type": "code",
   "execution_count": 22,
   "id": "9b5b8a65-01b2-4c6e-8e64-1f4ef249ec74",
   "metadata": {},
   "outputs": [
    {
     "data": {
      "text/plain": [
       "(88918, 11)"
      ]
     },
     "execution_count": 22,
     "metadata": {},
     "output_type": "execute_result"
    }
   ],
   "source": [
    "ad_recs_annotated.query(\"region =='US'&success==1\").shape"
   ]
  },
  {
   "cell_type": "markdown",
   "id": "f6b4b58d-0837-4fcf-9798-1676f522f9d7",
   "metadata": {},
   "source": [
    "### Q3"
   ]
  },
  {
   "cell_type": "code",
   "execution_count": 23,
   "id": "a9e08838-65f3-4612-858e-60759a345ae5",
   "metadata": {},
   "outputs": [
    {
     "data": {
      "text/plain": [
       "False    85576\n",
       "True      3342\n",
       "Name: week_id, dtype: int64"
      ]
     },
     "execution_count": 23,
     "metadata": {},
     "output_type": "execute_result"
    }
   ],
   "source": [
    "ad_recs_annotated.query(\"region =='US'&success==1\")['week_id'].str.contains('week_52').value_counts()"
   ]
  },
  {
   "cell_type": "markdown",
   "id": "52f86a9a-2b88-442a-96f6-7a1f2993109a",
   "metadata": {},
   "source": [
    "### Q4"
   ]
  },
  {
   "cell_type": "code",
   "execution_count": 24,
   "id": "8663fe63-d999-4b7d-8ac7-cd66605e9d4d",
   "metadata": {},
   "outputs": [
    {
     "data": {
      "text/plain": [
       "(200093, 11)"
      ]
     },
     "execution_count": 24,
     "metadata": {},
     "output_type": "execute_result"
    }
   ],
   "source": [
    "ad_recs_annotated.query(\"rec_provider =='DNNQ'|rec_provider=='RNNY'|rec_provider=='UserPopQ'\").shape"
   ]
  },
  {
   "cell_type": "markdown",
   "id": "fd9bef38-57ac-4b66-b707-29a76546355b",
   "metadata": {},
   "source": [
    "### Q5"
   ]
  },
  {
   "cell_type": "code",
   "execution_count": 25,
   "id": "8a5707a0-abfe-4cef-a088-d6174eabaaeb",
   "metadata": {},
   "outputs": [],
   "source": [
    "#DONT KNOW WHAT IS MEAN"
   ]
  },
  {
   "cell_type": "markdown",
   "id": "427b9bdb-5347-4c28-b011-7aa384da16e5",
   "metadata": {},
   "source": [
    "### Q6"
   ]
  },
  {
   "cell_type": "code",
   "execution_count": 26,
   "id": "8f306118-4e63-4385-bfee-ef69ae4aaf40",
   "metadata": {},
   "outputs": [
    {
     "data": {
      "text/plain": [
       "(271615, 11)"
      ]
     },
     "execution_count": 26,
     "metadata": {},
     "output_type": "execute_result"
    }
   ],
   "source": [
    "ad_recs_annotated.query(\"year=='2021'\").shape"
   ]
  },
  {
   "cell_type": "markdown",
   "id": "f472ed7d-767c-4ff0-9b90-ba7c38510ee5",
   "metadata": {},
   "source": [
    "### Q7"
   ]
  },
  {
   "cell_type": "code",
   "execution_count": 27,
   "id": "e979a904-7805-4f29-a2fb-88052c548cbc",
   "metadata": {},
   "outputs": [
    {
     "data": {
      "text/plain": [
       "33    14356\n",
       "34    14371\n",
       "35    14373\n",
       "36    14390\n",
       "37    14392\n",
       "38    14347\n",
       "39    14416\n",
       "40    14406\n",
       "Name: week, dtype: int64"
      ]
     },
     "execution_count": 27,
     "metadata": {},
     "output_type": "execute_result"
    }
   ],
   "source": [
    "ad_recs_annotated.query(\"'30' <= week <= '40'\")['week'].value_counts().sort_index()"
   ]
  },
  {
   "cell_type": "code",
   "execution_count": 28,
   "id": "ed3ef4b2-ae1c-4248-8067-c1145f98dee4",
   "metadata": {},
   "outputs": [
    {
     "data": {
      "text/plain": [
       "39    14416\n",
       "40    14406\n",
       "37    14392\n",
       "36    14390\n",
       "35    14373\n",
       "34    14371\n",
       "33    14356\n",
       "38    14347\n",
       "Name: week, dtype: int64"
      ]
     },
     "execution_count": 28,
     "metadata": {},
     "output_type": "execute_result"
    }
   ],
   "source": [
    "ad_recs_annotated.query(\"'30' <= week <= '40'\")['week'].value_counts()"
   ]
  },
  {
   "cell_type": "code",
   "execution_count": 29,
   "id": "1278ff3a-a663-4679-b109-8cdc57766609",
   "metadata": {},
   "outputs": [
    {
     "name": "stdout",
     "output_type": "stream",
     "text": [
      "AD07PFFMP9 AD07PFFMP9\n"
     ]
    }
   ],
   "source": [
    "mostPopolarAdId = ad_recs_annotated['ad_id'].value_counts().sort_values(ascending=False).index[0]\n",
    "mostPopolarAdId2 = ad_recs_annotated.ad_id.value_counts().idxmax()\n",
    "print(mostPopolarAdId,mostPopolarAdId2)"
   ]
  },
  {
   "cell_type": "code",
   "execution_count": 30,
   "id": "0eac8581-7154-46de-80d8-44ab8c916d0e",
   "metadata": {},
   "outputs": [
    {
     "data": {
      "text/html": [
       "<div>\n",
       "<style scoped>\n",
       "    .dataframe tbody tr th:only-of-type {\n",
       "        vertical-align: middle;\n",
       "    }\n",
       "\n",
       "    .dataframe tbody tr th {\n",
       "        vertical-align: top;\n",
       "    }\n",
       "\n",
       "    .dataframe thead th {\n",
       "        text-align: right;\n",
       "    }\n",
       "</style>\n",
       "<table border=\"1\" class=\"dataframe\">\n",
       "  <thead>\n",
       "    <tr style=\"text-align: right;\">\n",
       "      <th></th>\n",
       "      <th>week_id</th>\n",
       "      <th>ad_id</th>\n",
       "      <th>requester</th>\n",
       "      <th>region</th>\n",
       "      <th>is_success</th>\n",
       "      <th>is_sever</th>\n",
       "      <th>recommendation_type</th>\n",
       "      <th>rec_provider</th>\n",
       "      <th>year</th>\n",
       "      <th>week</th>\n",
       "      <th>success</th>\n",
       "    </tr>\n",
       "  </thead>\n",
       "  <tbody>\n",
       "    <tr>\n",
       "      <th>7031</th>\n",
       "      <td>2021-week_33</td>\n",
       "      <td>AD07PFFMP9</td>\n",
       "      <td>Puentes Company</td>\n",
       "      <td>IN</td>\n",
       "      <td>yes</td>\n",
       "      <td>NaN</td>\n",
       "      <td>Yield</td>\n",
       "      <td>ManualQ</td>\n",
       "      <td>2021</td>\n",
       "      <td>33</td>\n",
       "      <td>1</td>\n",
       "    </tr>\n",
       "    <tr>\n",
       "      <th>7032</th>\n",
       "      <td>2021-week_33</td>\n",
       "      <td>AD07PFFMP9</td>\n",
       "      <td>Puentes Company</td>\n",
       "      <td>IN</td>\n",
       "      <td>yes</td>\n",
       "      <td>NaN</td>\n",
       "      <td>Yield</td>\n",
       "      <td>ManualQ</td>\n",
       "      <td>2021</td>\n",
       "      <td>33</td>\n",
       "      <td>1</td>\n",
       "    </tr>\n",
       "    <tr>\n",
       "      <th>20010</th>\n",
       "      <td>2021-week_34</td>\n",
       "      <td>AD07PFFMP9</td>\n",
       "      <td>Bizanga</td>\n",
       "      <td>IN</td>\n",
       "      <td>yes</td>\n",
       "      <td>NaN</td>\n",
       "      <td>Yield</td>\n",
       "      <td>ManualQ</td>\n",
       "      <td>2021</td>\n",
       "      <td>34</td>\n",
       "      <td>1</td>\n",
       "    </tr>\n",
       "    <tr>\n",
       "      <th>20011</th>\n",
       "      <td>2021-week_34</td>\n",
       "      <td>AD07PFFMP9</td>\n",
       "      <td>Puentes Company</td>\n",
       "      <td>IN</td>\n",
       "      <td>yes</td>\n",
       "      <td>NaN</td>\n",
       "      <td>Yield</td>\n",
       "      <td>ManualQ</td>\n",
       "      <td>2021</td>\n",
       "      <td>34</td>\n",
       "      <td>1</td>\n",
       "    </tr>\n",
       "    <tr>\n",
       "      <th>35214</th>\n",
       "      <td>2021-week_35</td>\n",
       "      <td>AD07PFFMP9</td>\n",
       "      <td>Bizanga</td>\n",
       "      <td>IN</td>\n",
       "      <td>yes</td>\n",
       "      <td>NaN</td>\n",
       "      <td>Yield</td>\n",
       "      <td>ManualQ</td>\n",
       "      <td>2021</td>\n",
       "      <td>35</td>\n",
       "      <td>1</td>\n",
       "    </tr>\n",
       "    <tr>\n",
       "      <th>...</th>\n",
       "      <td>...</td>\n",
       "      <td>...</td>\n",
       "      <td>...</td>\n",
       "      <td>...</td>\n",
       "      <td>...</td>\n",
       "      <td>...</td>\n",
       "      <td>...</td>\n",
       "      <td>...</td>\n",
       "      <td>...</td>\n",
       "      <td>...</td>\n",
       "      <td>...</td>\n",
       "    </tr>\n",
       "    <tr>\n",
       "      <th>363533</th>\n",
       "      <td>2022-week_52</td>\n",
       "      <td>AD07PFFMP9</td>\n",
       "      <td>MoJoe Brewing Company</td>\n",
       "      <td>IN</td>\n",
       "      <td>yes</td>\n",
       "      <td>NaN</td>\n",
       "      <td>Yield</td>\n",
       "      <td>ManualQ</td>\n",
       "      <td>2022</td>\n",
       "      <td>52</td>\n",
       "      <td>1</td>\n",
       "    </tr>\n",
       "    <tr>\n",
       "      <th>363534</th>\n",
       "      <td>2022-week_52</td>\n",
       "      <td>AD07PFFMP9</td>\n",
       "      <td>MoJoe Brewing Company</td>\n",
       "      <td>IN</td>\n",
       "      <td>yes</td>\n",
       "      <td>NaN</td>\n",
       "      <td>Yield</td>\n",
       "      <td>ManualQ</td>\n",
       "      <td>2022</td>\n",
       "      <td>52</td>\n",
       "      <td>1</td>\n",
       "    </tr>\n",
       "    <tr>\n",
       "      <th>363535</th>\n",
       "      <td>2022-week_52</td>\n",
       "      <td>AD07PFFMP9</td>\n",
       "      <td>Bizanga</td>\n",
       "      <td>IN</td>\n",
       "      <td>yes</td>\n",
       "      <td>NaN</td>\n",
       "      <td>Yield</td>\n",
       "      <td>ManualQ</td>\n",
       "      <td>2022</td>\n",
       "      <td>52</td>\n",
       "      <td>1</td>\n",
       "    </tr>\n",
       "    <tr>\n",
       "      <th>363536</th>\n",
       "      <td>2022-week_52</td>\n",
       "      <td>AD07PFFMP9</td>\n",
       "      <td>MoJoe Brewing Company</td>\n",
       "      <td>IN</td>\n",
       "      <td>yes</td>\n",
       "      <td>NaN</td>\n",
       "      <td>Yield</td>\n",
       "      <td>ManualQ</td>\n",
       "      <td>2022</td>\n",
       "      <td>52</td>\n",
       "      <td>1</td>\n",
       "    </tr>\n",
       "    <tr>\n",
       "      <th>365817</th>\n",
       "      <td>2022-week_52</td>\n",
       "      <td>AD07PFFMP9</td>\n",
       "      <td>Allthetopbananas.com</td>\n",
       "      <td>IN</td>\n",
       "      <td>yes</td>\n",
       "      <td>NaN</td>\n",
       "      <td>Qality</td>\n",
       "      <td>ManualQ</td>\n",
       "      <td>2022</td>\n",
       "      <td>52</td>\n",
       "      <td>1</td>\n",
       "    </tr>\n",
       "  </tbody>\n",
       "</table>\n",
       "<p>247 rows × 11 columns</p>\n",
       "</div>"
      ],
      "text/plain": [
       "             week_id       ad_id              requester region is_success  \\\n",
       "7031    2021-week_33  AD07PFFMP9        Puentes Company     IN        yes   \n",
       "7032    2021-week_33  AD07PFFMP9        Puentes Company     IN        yes   \n",
       "20010   2021-week_34  AD07PFFMP9                Bizanga     IN        yes   \n",
       "20011   2021-week_34  AD07PFFMP9        Puentes Company     IN        yes   \n",
       "35214   2021-week_35  AD07PFFMP9                Bizanga     IN        yes   \n",
       "...              ...         ...                    ...    ...        ...   \n",
       "363533  2022-week_52  AD07PFFMP9  MoJoe Brewing Company     IN        yes   \n",
       "363534  2022-week_52  AD07PFFMP9  MoJoe Brewing Company     IN        yes   \n",
       "363535  2022-week_52  AD07PFFMP9                Bizanga     IN        yes   \n",
       "363536  2022-week_52  AD07PFFMP9  MoJoe Brewing Company     IN        yes   \n",
       "365817  2022-week_52  AD07PFFMP9   Allthetopbananas.com     IN        yes   \n",
       "\n",
       "       is_sever recommendation_type rec_provider  year week  success  \n",
       "7031        NaN               Yield      ManualQ  2021   33        1  \n",
       "7032        NaN               Yield      ManualQ  2021   33        1  \n",
       "20010       NaN               Yield      ManualQ  2021   34        1  \n",
       "20011       NaN               Yield      ManualQ  2021   34        1  \n",
       "35214       NaN               Yield      ManualQ  2021   35        1  \n",
       "...         ...                 ...          ...   ...  ...      ...  \n",
       "363533      NaN               Yield      ManualQ  2022   52        1  \n",
       "363534      NaN               Yield      ManualQ  2022   52        1  \n",
       "363535      NaN               Yield      ManualQ  2022   52        1  \n",
       "363536      NaN               Yield      ManualQ  2022   52        1  \n",
       "365817      NaN              Qality      ManualQ  2022   52        1  \n",
       "\n",
       "[247 rows x 11 columns]"
      ]
     },
     "execution_count": 30,
     "metadata": {},
     "output_type": "execute_result"
    }
   ],
   "source": [
    "ad_recs_annotated.query(\"ad_id=='AD07PFFMP9'\") \n",
    "ad_recs_annotated.query(\"{0}=='{1}'\".format('ad_id',mostPopolarAdId))"
   ]
  },
  {
   "cell_type": "markdown",
   "id": "909d6f36-5554-4be2-83f0-168a2db1ce98",
   "metadata": {},
   "source": [
    "### Least Popular Provider"
   ]
  },
  {
   "cell_type": "code",
   "execution_count": 31,
   "id": "718521f6-d3cd-47fa-bb0b-937676bbe2a3",
   "metadata": {},
   "outputs": [],
   "source": [
    "leastPopular=ad_recs_annotated.ad_id.value_counts().idxmin()"
   ]
  },
  {
   "cell_type": "code",
   "execution_count": 32,
   "id": "43e0cbb0-57ea-44ac-89a2-ee8c6193e6dd",
   "metadata": {},
   "outputs": [
    {
     "data": {
      "text/html": [
       "<div>\n",
       "<style scoped>\n",
       "    .dataframe tbody tr th:only-of-type {\n",
       "        vertical-align: middle;\n",
       "    }\n",
       "\n",
       "    .dataframe tbody tr th {\n",
       "        vertical-align: top;\n",
       "    }\n",
       "\n",
       "    .dataframe thead th {\n",
       "        text-align: right;\n",
       "    }\n",
       "</style>\n",
       "<table border=\"1\" class=\"dataframe\">\n",
       "  <thead>\n",
       "    <tr style=\"text-align: right;\">\n",
       "      <th></th>\n",
       "      <th>week_id</th>\n",
       "      <th>ad_id</th>\n",
       "      <th>requester</th>\n",
       "      <th>region</th>\n",
       "      <th>is_success</th>\n",
       "      <th>is_sever</th>\n",
       "      <th>recommendation_type</th>\n",
       "      <th>rec_provider</th>\n",
       "      <th>year</th>\n",
       "      <th>week</th>\n",
       "      <th>success</th>\n",
       "    </tr>\n",
       "  </thead>\n",
       "  <tbody>\n",
       "    <tr>\n",
       "      <th>251351</th>\n",
       "      <td>2021-week_50</td>\n",
       "      <td>AD08ZLWHHR</td>\n",
       "      <td>RelayFoods</td>\n",
       "      <td>IN</td>\n",
       "      <td>yes</td>\n",
       "      <td>NaN</td>\n",
       "      <td>Qality</td>\n",
       "      <td>UserPopQ</td>\n",
       "      <td>2021</td>\n",
       "      <td>50</td>\n",
       "      <td>1</td>\n",
       "    </tr>\n",
       "  </tbody>\n",
       "</table>\n",
       "</div>"
      ],
      "text/plain": [
       "             week_id       ad_id   requester region is_success is_sever  \\\n",
       "251351  2021-week_50  AD08ZLWHHR  RelayFoods     IN        yes      NaN   \n",
       "\n",
       "       recommendation_type rec_provider  year week  success  \n",
       "251351              Qality     UserPopQ  2021   50        1  "
      ]
     },
     "execution_count": 32,
     "metadata": {},
     "output_type": "execute_result"
    }
   ],
   "source": [
    "ad_recs_annotated.query(f\"ad_id=='{leastPopular}'\")"
   ]
  },
  {
   "cell_type": "markdown",
   "id": "11d8b056-c777-490a-b26d-949ee8755561",
   "metadata": {},
   "source": [
    "### Analysis"
   ]
  },
  {
   "cell_type": "markdown",
   "id": "ccae8707-2c86-424a-bd55-73496219adbe",
   "metadata": {},
   "source": [
    "1. How many weeks available in the data? Are there any missing weeks? \n",
    "1. How many regions available in the data? Are there any missing weeks per region? \n",
    "1. How many ads are being sent to annotation in each region per week?\n",
    "1. How many None values are there in is_sever column? \n",
    "1. Are ads being sent more than one time in a given week? what is the ad_id that was sent the most in a given week? (e.g. ad X where sent 50 times in week Y)\n",
    "1. Are there ads that are being sent in more than one week?\n",
    "   1. Which is the ad that was sent in most amount of weeks (e.g. ad X where sent in Y different weeks)\n",
    "   2. What are the weeks that the ad from above was sent in? \n",
    "   3. Is there an Ad that was succsefull in one week, but not succesfful in a different week? Show one.\n",
    "1. When is_sever is None, what is the number of successful requests? What is the number of non-successful requests? What do you learn from it about the reason for Nones in the first place? \n",
    "1. Per each region, What is the Quality/Yield traffic proportion WoW? \n",
    "1. How many different reqeusters are there? \n",
    "1. Which are the top 5 requesters per region? \n",
    "1. Which are the different rec_proivders?\n",
    "1. Are there different rec providers per region? \n",
    "1. Are there different rec providers per rec type?\n",
    "1. What are the notation rules distinguishing between quality vs yielding providers?\n",
    "1. Which is the most successful region of operation? \n",
    "1. Which is the most successful rec provider per each region? \n",
    "1. Present a table with a success rate, sever defects rate and CI (for each metric) per region\n",
    "1. Present a table with a success rate, sever defects rate and CI (for each metric) per rec provider\n",
    "1. Present a table with a success rate, sever defects rate and CI (for each metric) per region and rec provider combinations\n",
    "1. Present a table with a success rate, sever defects rate and CI (for each metric) per rec type (Q/Y)\n",
    "1. Present a table with a success rate, sever defects rate and CI (for each metric) per rec type and region\n",
    "1. Present WoW table/graph with success rate and CI (see image below) per region\n",
    "1. Present WoW table/graph with success rate and CI (see image below) per region and rec type\n",
    "1. Present WoW table/graph with success rate and CI (see image below) per region and rec provider\n",
    "1. Which are the requester to which we succeed the most?\n",
    "1. Which are the requester to which we produce the most critical defects?\n",
    "1. What is the overall success rate trend over time? \n",
    "1. What is the overall sever defect rate trend over time? \n",
    "1. Preset a WoW graph showing the number of requests per customer in each region (hint: [use stacked bars](https://plotly.com/python/bar-charts/)), from it:\n",
    "  1. Identify major traffic shape changes (addition/removal) of major clients\n",
    "1. Preset a WoW graph showing the **requests proportion** per customer in each region (hint: [use stacked bars](https://plotly.com/python/bar-charts/)), from it:\n",
    "  1. Identify major traffic shape changes (addition/removal) of major clients\n"
   ]
  },
  {
   "cell_type": "code",
   "execution_count": 33,
   "id": "f5a563f4-ed98-4f73-b2f9-80b06d0562d1",
   "metadata": {},
   "outputs": [
    {
     "data": {
      "text/plain": [
       "26"
      ]
     },
     "execution_count": 33,
     "metadata": {},
     "output_type": "execute_result"
    }
   ],
   "source": [
    "ad_recs_annotated.week.value_counts().sort_index().count()\n",
    "ad_recs_annotated.week.nunique()"
   ]
  },
  {
   "cell_type": "markdown",
   "id": "7e2bd666-e9ea-4350-8db3-0bf176f681a4",
   "metadata": {},
   "source": [
    "#### unique region"
   ]
  },
  {
   "cell_type": "code",
   "execution_count": 34,
   "id": "e0bd10a0-a7af-447e-bdbc-6f4bd69cc2ef",
   "metadata": {},
   "outputs": [
    {
     "data": {
      "text/html": [
       "<div>\n",
       "<style scoped>\n",
       "    .dataframe tbody tr th:only-of-type {\n",
       "        vertical-align: middle;\n",
       "    }\n",
       "\n",
       "    .dataframe tbody tr th {\n",
       "        vertical-align: top;\n",
       "    }\n",
       "\n",
       "    .dataframe thead tr th {\n",
       "        text-align: left;\n",
       "    }\n",
       "</style>\n",
       "<table border=\"1\" class=\"dataframe\">\n",
       "  <thead>\n",
       "    <tr>\n",
       "      <th></th>\n",
       "      <th>region</th>\n",
       "      <th colspan=\"2\" halign=\"left\">week</th>\n",
       "    </tr>\n",
       "    <tr>\n",
       "      <th></th>\n",
       "      <th></th>\n",
       "      <th></th>\n",
       "      <th>value_counts</th>\n",
       "    </tr>\n",
       "  </thead>\n",
       "  <tbody>\n",
       "    <tr>\n",
       "      <th>0</th>\n",
       "      <td>DE</td>\n",
       "      <td>06</td>\n",
       "      <td>2418</td>\n",
       "    </tr>\n",
       "    <tr>\n",
       "      <th>1</th>\n",
       "      <td>DE</td>\n",
       "      <td>48</td>\n",
       "      <td>2418</td>\n",
       "    </tr>\n",
       "    <tr>\n",
       "      <th>2</th>\n",
       "      <td>DE</td>\n",
       "      <td>51</td>\n",
       "      <td>2411</td>\n",
       "    </tr>\n",
       "    <tr>\n",
       "      <th>3</th>\n",
       "      <td>DE</td>\n",
       "      <td>39</td>\n",
       "      <td>2407</td>\n",
       "    </tr>\n",
       "    <tr>\n",
       "      <th>4</th>\n",
       "      <td>DE</td>\n",
       "      <td>50</td>\n",
       "      <td>2406</td>\n",
       "    </tr>\n",
       "    <tr>\n",
       "      <th>...</th>\n",
       "      <td>...</td>\n",
       "      <td>...</td>\n",
       "      <td>...</td>\n",
       "    </tr>\n",
       "    <tr>\n",
       "      <th>124</th>\n",
       "      <td>US</td>\n",
       "      <td>35</td>\n",
       "      <td>3982</td>\n",
       "    </tr>\n",
       "    <tr>\n",
       "      <th>125</th>\n",
       "      <td>US</td>\n",
       "      <td>37</td>\n",
       "      <td>3980</td>\n",
       "    </tr>\n",
       "    <tr>\n",
       "      <th>126</th>\n",
       "      <td>US</td>\n",
       "      <td>03</td>\n",
       "      <td>3979</td>\n",
       "    </tr>\n",
       "    <tr>\n",
       "      <th>127</th>\n",
       "      <td>US</td>\n",
       "      <td>36</td>\n",
       "      <td>3978</td>\n",
       "    </tr>\n",
       "    <tr>\n",
       "      <th>128</th>\n",
       "      <td>US</td>\n",
       "      <td>33</td>\n",
       "      <td>3974</td>\n",
       "    </tr>\n",
       "  </tbody>\n",
       "</table>\n",
       "<p>129 rows × 3 columns</p>\n",
       "</div>"
      ],
      "text/plain": [
       "    region week             \n",
       "                value_counts\n",
       "0       DE   06         2418\n",
       "1       DE   48         2418\n",
       "2       DE   51         2411\n",
       "3       DE   39         2407\n",
       "4       DE   50         2406\n",
       "..     ...  ...          ...\n",
       "124     US   35         3982\n",
       "125     US   37         3980\n",
       "126     US   03         3979\n",
       "127     US   36         3978\n",
       "128     US   33         3974\n",
       "\n",
       "[129 rows x 3 columns]"
      ]
     },
     "execution_count": 34,
     "metadata": {},
     "output_type": "execute_result"
    }
   ],
   "source": [
    "ad_recs_annotated.groupby('region').agg({'week':['value_counts']}).reset_index()"
   ]
  },
  {
   "cell_type": "code",
   "execution_count": null,
   "id": "3f79c55d-8279-4ece-82bb-5aff4ff11b43",
   "metadata": {},
   "outputs": [],
   "source": []
  },
  {
   "cell_type": "code",
   "execution_count": null,
   "id": "e001692f-4a4e-437a-8bd3-79e3f3f142cb",
   "metadata": {},
   "outputs": [],
   "source": []
  },
  {
   "cell_type": "markdown",
   "id": "2a5c14f0-56e2-45c4-b562-99aa18c5c6e6",
   "metadata": {},
   "source": [
    "#### 3) dont understand yet the question"
   ]
  },
  {
   "cell_type": "code",
   "execution_count": 35,
   "id": "1c0ddc4a-0d37-4e20-bc15-0a60fce0b920",
   "metadata": {},
   "outputs": [
    {
     "data": {
      "text/html": [
       "<div>\n",
       "<style scoped>\n",
       "    .dataframe tbody tr th:only-of-type {\n",
       "        vertical-align: middle;\n",
       "    }\n",
       "\n",
       "    .dataframe tbody tr th {\n",
       "        vertical-align: top;\n",
       "    }\n",
       "\n",
       "    .dataframe thead tr th {\n",
       "        text-align: left;\n",
       "    }\n",
       "\n",
       "    .dataframe thead tr:last-of-type th {\n",
       "        text-align: right;\n",
       "    }\n",
       "</style>\n",
       "<table border=\"1\" class=\"dataframe\">\n",
       "  <thead>\n",
       "    <tr>\n",
       "      <th></th>\n",
       "      <th></th>\n",
       "      <th>is_success</th>\n",
       "    </tr>\n",
       "    <tr>\n",
       "      <th></th>\n",
       "      <th></th>\n",
       "      <th>value_counts</th>\n",
       "    </tr>\n",
       "    <tr>\n",
       "      <th>region</th>\n",
       "      <th>is_success</th>\n",
       "      <th></th>\n",
       "    </tr>\n",
       "  </thead>\n",
       "  <tbody>\n",
       "    <tr>\n",
       "      <th rowspan=\"2\" valign=\"top\">DE</th>\n",
       "      <th>yes</th>\n",
       "      <td>50624</td>\n",
       "    </tr>\n",
       "    <tr>\n",
       "      <th>no</th>\n",
       "      <td>11553</td>\n",
       "    </tr>\n",
       "    <tr>\n",
       "      <th rowspan=\"2\" valign=\"top\">GB</th>\n",
       "      <th>yes</th>\n",
       "      <td>69509</td>\n",
       "    </tr>\n",
       "    <tr>\n",
       "      <th>no</th>\n",
       "      <td>13475</td>\n",
       "    </tr>\n",
       "    <tr>\n",
       "      <th rowspan=\"2\" valign=\"top\">IN</th>\n",
       "      <th>yes</th>\n",
       "      <td>63355</td>\n",
       "    </tr>\n",
       "    <tr>\n",
       "      <th>no</th>\n",
       "      <td>19799</td>\n",
       "    </tr>\n",
       "    <tr>\n",
       "      <th rowspan=\"2\" valign=\"top\">JP</th>\n",
       "      <th>yes</th>\n",
       "      <td>31800</td>\n",
       "    </tr>\n",
       "    <tr>\n",
       "      <th>no</th>\n",
       "      <td>9827</td>\n",
       "    </tr>\n",
       "    <tr>\n",
       "      <th rowspan=\"2\" valign=\"top\">US</th>\n",
       "      <th>yes</th>\n",
       "      <td>88918</td>\n",
       "    </tr>\n",
       "    <tr>\n",
       "      <th>no</th>\n",
       "      <td>14928</td>\n",
       "    </tr>\n",
       "  </tbody>\n",
       "</table>\n",
       "</div>"
      ],
      "text/plain": [
       "                    is_success\n",
       "                  value_counts\n",
       "region is_success             \n",
       "DE     yes               50624\n",
       "       no                11553\n",
       "GB     yes               69509\n",
       "       no                13475\n",
       "IN     yes               63355\n",
       "       no                19799\n",
       "JP     yes               31800\n",
       "       no                 9827\n",
       "US     yes               88918\n",
       "       no                14928"
      ]
     },
     "execution_count": 35,
     "metadata": {},
     "output_type": "execute_result"
    }
   ],
   "source": [
    "ad_recs_annotated.groupby('region').agg({\"is_success\":['value_counts']})"
   ]
  },
  {
   "cell_type": "code",
   "execution_count": 36,
   "id": "8d7fb8d9-7893-4d5d-b879-587f52cb8777",
   "metadata": {},
   "outputs": [
    {
     "data": {
      "text/plain": [
       "304195"
      ]
     },
     "execution_count": 36,
     "metadata": {},
     "output_type": "execute_result"
    }
   ],
   "source": [
    "ad_recs_annotated.agg({'is_sever':\"isnull\"}).value_counts().values[0]"
   ]
  },
  {
   "cell_type": "code",
   "execution_count": 37,
   "id": "c965276a-1221-4c3e-af57-fad2779c35a8",
   "metadata": {},
   "outputs": [],
   "source": [
    "ad_recs_annotated.groupby('week').agg({'ad_id':'value_counts'})\n",
    "\n",
    "def GetMostSentInGivenWeek(week_num):\n",
    "    return ad_recs_annotated.query(f\"week=='{week_num}'\").agg({'ad_id':'value_counts'})\n",
    "    "
   ]
  },
  {
   "cell_type": "markdown",
   "id": "17b1e3a8-1c68-4fc0-bd48-7de1f17f88ed",
   "metadata": {},
   "source": [
    "### Q5"
   ]
  },
  {
   "cell_type": "code",
   "execution_count": 38,
   "id": "bc080299-c3c9-4cbb-bd02-c3fbe4d31a8d",
   "metadata": {},
   "outputs": [
    {
     "data": {
      "text/plain": [
       "ad_id       week\n",
       "AD098SWYF6  40      81\n",
       "AD08C8RR8J  47      70\n",
       "AD07QS8VCL  47      58\n",
       "AD00IGCC8G  47      56\n",
       "AD098C6SNV  47      55\n",
       "                    ..\n",
       "AD07GRVV8L  47       1\n",
       "AD07GRVT8R  37       1\n",
       "AD07GRTNSP  49       1\n",
       "AD07GRTNPJ  37       1\n",
       "ADOO8X898E  50       1\n",
       "Length: 358763, dtype: int64"
      ]
     },
     "execution_count": 38,
     "metadata": {},
     "output_type": "execute_result"
    }
   ],
   "source": [
    "columns={'ad_id','week','value_counts'}\n",
    "df=ad_recs_annotated.groupby(['ad_id','week']).size()\n",
    "df.reset_index()\n",
    "df.columns=['ad_id', 'week', 'count']\n",
    "df.sort_values( ascending=[False])"
   ]
  },
  {
   "cell_type": "markdown",
   "id": "f00f79f0-96a2-47b9-8a6a-e8133d923119",
   "metadata": {},
   "source": [
    "### Q6"
   ]
  },
  {
   "cell_type": "code",
   "execution_count": 39,
   "id": "10c05166-a049-4511-9b27-b133f1723d37",
   "metadata": {},
   "outputs": [
    {
     "data": {
      "text/plain": [
       "(67906, 12)"
      ]
     },
     "execution_count": 39,
     "metadata": {},
     "output_type": "execute_result"
    }
   ],
   "source": [
    "ad_recs_annotated.groupby(['ad_id']).agg({'week':'value_counts'})\n",
    "\n",
    "\n",
    "\n",
    "def countSentInAllWeeksAgg():\n",
    "    ad_recs_annotated.groupby(['week']).value_counts()\n",
    "\n",
    "df=ad_recs_annotated.groupby(['week','ad_id']).value_counts().reset_index().sort_values([0],ascending=[False])\n",
    "df.shape"
   ]
  },
  {
   "cell_type": "code",
   "execution_count": 40,
   "id": "d5d4bd3f-e8d9-48ef-92a3-c0df9658ca4d",
   "metadata": {},
   "outputs": [],
   "source": [
    "countSentInAllWeeksAgg()"
   ]
  },
  {
   "cell_type": "code",
   "execution_count": null,
   "id": "ab2fa189-6917-45ac-bc07-2f0a131d5665",
   "metadata": {},
   "outputs": [],
   "source": []
  },
  {
   "cell_type": "code",
   "execution_count": null,
   "id": "ee24e7ae-2bdc-4b35-9144-8c771d528d8f",
   "metadata": {},
   "outputs": [],
   "source": []
  },
  {
   "cell_type": "code",
   "execution_count": 41,
   "id": "5c4fcc84-8a92-4b5e-9822-38dfcacdc8c2",
   "metadata": {},
   "outputs": [
    {
     "data": {
      "text/html": [
       "<div>\n",
       "<style scoped>\n",
       "    .dataframe tbody tr th:only-of-type {\n",
       "        vertical-align: middle;\n",
       "    }\n",
       "\n",
       "    .dataframe tbody tr th {\n",
       "        vertical-align: top;\n",
       "    }\n",
       "\n",
       "    .dataframe thead th {\n",
       "        text-align: right;\n",
       "    }\n",
       "</style>\n",
       "<table border=\"1\" class=\"dataframe\">\n",
       "  <thead>\n",
       "    <tr style=\"text-align: right;\">\n",
       "      <th></th>\n",
       "      <th>ad_id</th>\n",
       "    </tr>\n",
       "  </thead>\n",
       "  <tbody>\n",
       "    <tr>\n",
       "      <th>AD07FM8DDG</th>\n",
       "      <td>8</td>\n",
       "    </tr>\n",
       "    <tr>\n",
       "      <th>AD08VLRZD</th>\n",
       "      <td>7</td>\n",
       "    </tr>\n",
       "    <tr>\n",
       "      <th>AD07PHPXHQ</th>\n",
       "      <td>6</td>\n",
       "    </tr>\n",
       "    <tr>\n",
       "      <th>AD079VP6DH</th>\n",
       "      <td>5</td>\n",
       "    </tr>\n",
       "    <tr>\n",
       "      <th>AD07880888</th>\n",
       "      <td>5</td>\n",
       "    </tr>\n",
       "    <tr>\n",
       "      <th>...</th>\n",
       "      <td>...</td>\n",
       "    </tr>\n",
       "    <tr>\n",
       "      <th>AD08M8HIMN</th>\n",
       "      <td>1</td>\n",
       "    </tr>\n",
       "    <tr>\n",
       "      <th>AD08F8P88Y</th>\n",
       "      <td>1</td>\n",
       "    </tr>\n",
       "    <tr>\n",
       "      <th>AD08P7NJNV</th>\n",
       "      <td>1</td>\n",
       "    </tr>\n",
       "    <tr>\n",
       "      <th>AD088WF878</th>\n",
       "      <td>1</td>\n",
       "    </tr>\n",
       "    <tr>\n",
       "      <th>AD0987HDV6</th>\n",
       "      <td>1</td>\n",
       "    </tr>\n",
       "  </tbody>\n",
       "</table>\n",
       "<p>13783 rows × 1 columns</p>\n",
       "</div>"
      ],
      "text/plain": [
       "            ad_id\n",
       "AD07FM8DDG      8\n",
       "AD08VLRZD       7\n",
       "AD07PHPXHQ      6\n",
       "AD079VP6DH      5\n",
       "AD07880888      5\n",
       "...           ...\n",
       "AD08M8HIMN      1\n",
       "AD08F8P88Y      1\n",
       "AD08P7NJNV      1\n",
       "AD088WF878      1\n",
       "AD0987HDV6      1\n",
       "\n",
       "[13783 rows x 1 columns]"
      ]
     },
     "execution_count": 41,
     "metadata": {},
     "output_type": "execute_result"
    }
   ],
   "source": [
    "GetMostSentInGivenWeek(33)\n",
    "#ad_recs_annotated.query(f\"week=='{33}'\")reset_index"
   ]
  },
  {
   "cell_type": "markdown",
   "id": "a5d82d6a-0fe3-44fe-a937-48042f45e9ab",
   "metadata": {},
   "source": [
    "### try Q6"
   ]
  },
  {
   "cell_type": "code",
   "execution_count": 42,
   "id": "533ef817-1303-4a23-ade8-b532d1bb7dd9",
   "metadata": {},
   "outputs": [
    {
     "ename": "ValueError",
     "evalue": "cannot insert week, already exists",
     "output_type": "error",
     "traceback": [
      "\u001b[0;31m---------------------------------------------------------------------------\u001b[0m",
      "\u001b[0;31mValueError\u001b[0m                                Traceback (most recent call last)",
      "\u001b[0;32m/var/folders/y9/5q7dx2j91_x2pwj_s_kllqc80000gp/T/ipykernel_8437/2468276293.py\u001b[0m in \u001b[0;36m<module>\u001b[0;34m\u001b[0m\n\u001b[0;32m----> 1\u001b[0;31m \u001b[0mad_recs_annotated\u001b[0m\u001b[0;34m.\u001b[0m\u001b[0mgroupby\u001b[0m\u001b[0;34m(\u001b[0m\u001b[0;34m[\u001b[0m\u001b[0;34m'ad_id'\u001b[0m\u001b[0;34m,\u001b[0m\u001b[0;34m'week'\u001b[0m\u001b[0;34m]\u001b[0m\u001b[0;34m)\u001b[0m\u001b[0;34m.\u001b[0m\u001b[0magg\u001b[0m\u001b[0;34m(\u001b[0m\u001b[0;34m{\u001b[0m\u001b[0;34m'week'\u001b[0m\u001b[0;34m:\u001b[0m\u001b[0;34m'value_counts'\u001b[0m\u001b[0;34m}\u001b[0m\u001b[0;34m)\u001b[0m\u001b[0;34m.\u001b[0m\u001b[0mreset_index\u001b[0m\u001b[0;34m(\u001b[0m\u001b[0;34m)\u001b[0m\u001b[0;34m\u001b[0m\u001b[0;34m\u001b[0m\u001b[0m\n\u001b[0m",
      "\u001b[0;32m~/opt/anaconda3/lib/python3.9/site-packages/pandas/util/_decorators.py\u001b[0m in \u001b[0;36mwrapper\u001b[0;34m(*args, **kwargs)\u001b[0m\n\u001b[1;32m    309\u001b[0m                     \u001b[0mstacklevel\u001b[0m\u001b[0;34m=\u001b[0m\u001b[0mstacklevel\u001b[0m\u001b[0;34m,\u001b[0m\u001b[0;34m\u001b[0m\u001b[0;34m\u001b[0m\u001b[0m\n\u001b[1;32m    310\u001b[0m                 )\n\u001b[0;32m--> 311\u001b[0;31m             \u001b[0;32mreturn\u001b[0m \u001b[0mfunc\u001b[0m\u001b[0;34m(\u001b[0m\u001b[0;34m*\u001b[0m\u001b[0margs\u001b[0m\u001b[0;34m,\u001b[0m \u001b[0;34m**\u001b[0m\u001b[0mkwargs\u001b[0m\u001b[0;34m)\u001b[0m\u001b[0;34m\u001b[0m\u001b[0;34m\u001b[0m\u001b[0m\n\u001b[0m\u001b[1;32m    312\u001b[0m \u001b[0;34m\u001b[0m\u001b[0m\n\u001b[1;32m    313\u001b[0m         \u001b[0;32mreturn\u001b[0m \u001b[0mwrapper\u001b[0m\u001b[0;34m\u001b[0m\u001b[0;34m\u001b[0m\u001b[0m\n",
      "\u001b[0;32m~/opt/anaconda3/lib/python3.9/site-packages/pandas/core/frame.py\u001b[0m in \u001b[0;36mreset_index\u001b[0;34m(self, level, drop, inplace, col_level, col_fill)\u001b[0m\n\u001b[1;32m   5846\u001b[0m                     )\n\u001b[1;32m   5847\u001b[0m \u001b[0;34m\u001b[0m\u001b[0m\n\u001b[0;32m-> 5848\u001b[0;31m                 \u001b[0mnew_obj\u001b[0m\u001b[0;34m.\u001b[0m\u001b[0minsert\u001b[0m\u001b[0;34m(\u001b[0m\u001b[0;36m0\u001b[0m\u001b[0;34m,\u001b[0m \u001b[0mname\u001b[0m\u001b[0;34m,\u001b[0m \u001b[0mlevel_values\u001b[0m\u001b[0;34m)\u001b[0m\u001b[0;34m\u001b[0m\u001b[0;34m\u001b[0m\u001b[0m\n\u001b[0m\u001b[1;32m   5849\u001b[0m \u001b[0;34m\u001b[0m\u001b[0m\n\u001b[1;32m   5850\u001b[0m         \u001b[0mnew_obj\u001b[0m\u001b[0;34m.\u001b[0m\u001b[0mindex\u001b[0m \u001b[0;34m=\u001b[0m \u001b[0mnew_index\u001b[0m\u001b[0;34m\u001b[0m\u001b[0;34m\u001b[0m\u001b[0m\n",
      "\u001b[0;32m~/opt/anaconda3/lib/python3.9/site-packages/pandas/core/frame.py\u001b[0m in \u001b[0;36minsert\u001b[0;34m(self, loc, column, value, allow_duplicates)\u001b[0m\n\u001b[1;32m   4441\u001b[0m         \u001b[0;32mif\u001b[0m \u001b[0;32mnot\u001b[0m \u001b[0mallow_duplicates\u001b[0m \u001b[0;32mand\u001b[0m \u001b[0mcolumn\u001b[0m \u001b[0;32min\u001b[0m \u001b[0mself\u001b[0m\u001b[0;34m.\u001b[0m\u001b[0mcolumns\u001b[0m\u001b[0;34m:\u001b[0m\u001b[0;34m\u001b[0m\u001b[0;34m\u001b[0m\u001b[0m\n\u001b[1;32m   4442\u001b[0m             \u001b[0;31m# Should this be a different kind of error??\u001b[0m\u001b[0;34m\u001b[0m\u001b[0;34m\u001b[0m\u001b[0m\n\u001b[0;32m-> 4443\u001b[0;31m             \u001b[0;32mraise\u001b[0m \u001b[0mValueError\u001b[0m\u001b[0;34m(\u001b[0m\u001b[0;34mf\"cannot insert {column}, already exists\"\u001b[0m\u001b[0;34m)\u001b[0m\u001b[0;34m\u001b[0m\u001b[0;34m\u001b[0m\u001b[0m\n\u001b[0m\u001b[1;32m   4444\u001b[0m         \u001b[0;32mif\u001b[0m \u001b[0;32mnot\u001b[0m \u001b[0misinstance\u001b[0m\u001b[0;34m(\u001b[0m\u001b[0mloc\u001b[0m\u001b[0;34m,\u001b[0m \u001b[0mint\u001b[0m\u001b[0;34m)\u001b[0m\u001b[0;34m:\u001b[0m\u001b[0;34m\u001b[0m\u001b[0;34m\u001b[0m\u001b[0m\n\u001b[1;32m   4445\u001b[0m             \u001b[0;32mraise\u001b[0m \u001b[0mTypeError\u001b[0m\u001b[0;34m(\u001b[0m\u001b[0;34m\"loc must be int\"\u001b[0m\u001b[0;34m)\u001b[0m\u001b[0;34m\u001b[0m\u001b[0;34m\u001b[0m\u001b[0m\n",
      "\u001b[0;31mValueError\u001b[0m: cannot insert week, already exists"
     ]
    }
   ],
   "source": [
    "ad_recs_annotated.groupby(['ad_id','week']).agg({'week':'value_counts'}).reset_index()"
   ]
  },
  {
   "cell_type": "code",
   "execution_count": null,
   "id": "65de2245-bbbd-4c23-bc11-e4bd02faed52",
   "metadata": {},
   "outputs": [],
   "source": [
    "ad_recs_annotated.groupby('ad_id')['ad_id'].count().sort_values(ascending=False)\n",
    "ad_recs_annotated.groupby('ad_id').agg({'week':'value_counts'})\n",
    "ad_recs_annotated.groupby(['week','ad_id'])['ad_id'].count().sort_values(ascending=False)\n",
    "ad_recs_annotated.groupby(['week','ad_id']).count()"
   ]
  },
  {
   "cell_type": "markdown",
   "id": "734ed47e-75a9-4f0a-96a0-7f1fd5ef9912",
   "metadata": {},
   "source": [
    "### Q6 AGAIN"
   ]
  },
  {
   "cell_type": "code",
   "execution_count": 43,
   "id": "b5008c7d-3f99-4038-858b-f9367a1fbf66",
   "metadata": {},
   "outputs": [
    {
     "name": "stdout",
     "output_type": "stream",
     "text": [
      "Ad AD07PFFMP9 was sent in 247 different weeks \n"
     ]
    }
   ],
   "source": [
    "adBig = ad_recs_annotated.groupby(['ad_id']).count().week_id.sort_values(ascending=False).index[0]\n",
    "numBig = ad_recs_annotated.groupby(['ad_id']).count().week_id.sort_values(ascending=False)[0]\n",
    "print(\"Ad {} was sent in {} different weeks \".format(adBig,numBig))"
   ]
  },
  {
   "cell_type": "code",
   "execution_count": 44,
   "id": "a8cd2e42-e6f9-45f1-86fd-096e8d3d605c",
   "metadata": {},
   "outputs": [
    {
     "data": {
      "text/plain": [
       "26"
      ]
     },
     "execution_count": 44,
     "metadata": {},
     "output_type": "execute_result"
    }
   ],
   "source": [
    "ad_recs_annotated[ad_recs_annotated.ad_id==adBig].week_id.nunique()"
   ]
  },
  {
   "cell_type": "code",
   "execution_count": 45,
   "id": "6e84d6b9-9903-41ac-84df-8587bd5058cd",
   "metadata": {},
   "outputs": [
    {
     "name": "stdout",
     "output_type": "stream",
     "text": [
      "no Success: 61329 Success: 244816\n"
     ]
    }
   ],
   "source": [
    "noSuccess = ad_recs_annotated[ad_recs_annotated.is_success==\"no\"].ad_id.nunique()\n",
    "Success = ad_recs_annotated[ad_recs_annotated.is_success==\"yes\"].ad_id.nunique()\n",
    "print(\"no Success: {} Success: {}\".format(noSuccess,Success))"
   ]
  },
  {
   "cell_type": "code",
   "execution_count": 46,
   "id": "6e65dfb7-c43f-4cc1-88be-a1eb625bb31c",
   "metadata": {},
   "outputs": [
    {
     "data": {
      "text/plain": [
       "region  week_id       recommendation_type\n",
       "DE      2021-week_33  Qality                 1908\n",
       "                      Yield                   487\n",
       "        2021-week_34  Qality                 1975\n",
       "                      Yield                   385\n",
       "        2021-week_35  Qality                 1850\n",
       "                                             ... \n",
       "US      2022-week_05  Qality                 1395\n",
       "        2022-week_06  Yield                  2523\n",
       "                      Qality                 1469\n",
       "        2022-week_52  Yield                  2699\n",
       "                      Qality                 1299\n",
       "Name: recommendation_type, Length: 258, dtype: int64"
      ]
     },
     "execution_count": 46,
     "metadata": {},
     "output_type": "execute_result"
    }
   ],
   "source": [
    "# Per each region, What is the Quality/Yield traffic proportion WoW?\n",
    "\n",
    "valueCountRecommmend = ad_recs_annotated.groupby(['region','week_id']).recommendation_type.value_counts()\n",
    "sizeOfEachWeek = ad_recs_annotated.groupby(['region','week_id']).recommendation_type.size()\n",
    "valueCountRecommmend"
   ]
  },
  {
   "cell_type": "code",
   "execution_count": 47,
   "id": "5027173c-67ae-4f30-8901-69277327dfb3",
   "metadata": {},
   "outputs": [
    {
     "data": {
      "text/plain": [
       "36"
      ]
     },
     "execution_count": 47,
     "metadata": {},
     "output_type": "execute_result"
    }
   ],
   "source": [
    "# How many different reqeusters are there? \n",
    "\n",
    "ad_recs_annotated.requester.nunique()\n"
   ]
  },
  {
   "cell_type": "code",
   "execution_count": 48,
   "id": "cd29c5b6-d957-42c3-aab4-752553762e7b",
   "metadata": {},
   "outputs": [
    {
     "data": {
      "text/plain": [
       "region                        \n",
       "DE      Search Million Culture    23657\n",
       "        RelayFoods                17313\n",
       "        MoJoe Brewing Company      8616\n",
       "        iDreamsky Technology       3542\n",
       "        SOLOMO365                  2435\n",
       "GB      Search Million Culture    28002\n",
       "        RelayFoods                15920\n",
       "        Fancy                     13678\n",
       "        MoJoe Brewing Company      9530\n",
       "        iDreamsky Technology       3919\n",
       "IN      Puentes Company           29427\n",
       "        Search Million Culture    21365\n",
       "        RelayFoods                17352\n",
       "        MoJoe Brewing Company      7191\n",
       "        iDreamsky Technology       1995\n",
       "JP      RelayFoods                24574\n",
       "        Search Million Culture     7906\n",
       "        MoJoe Brewing Company      3549\n",
       "        LocalVox Media             1724\n",
       "        Tab Solutions              1366\n",
       "US      Extreme DA                57215\n",
       "        Fancy                     18668\n",
       "        Tab Solutions              9790\n",
       "        Search Million Culture     5610\n",
       "        Sensor Tower               3503\n",
       "Name: requester, dtype: int64"
      ]
     },
     "execution_count": 48,
     "metadata": {},
     "output_type": "execute_result"
    }
   ],
   "source": [
    "# Which are the top 5 requesters per region?\n",
    "ad_recs_annotated.groupby(['region']).requester.apply(lambda grp: grp.value_counts().nlargest(5))\n"
   ]
  },
  {
   "cell_type": "code",
   "execution_count": 49,
   "id": "cb91a0e3-e770-44d9-873c-450edffb2305",
   "metadata": {},
   "outputs": [
    {
     "data": {
      "text/plain": [
       "array(['DNNQ', 'DNNY', 'BooksQ', 'UserPopQ', 'UserPopY', 'RuleBasedY',\n",
       "       'ManualY', 'ManualQ', 'BooksY', 'XGBQ', 'XGBY', 'RNNQ', 'RNNY',\n",
       "       'RuleBased', 'UserPopSelectionQ', 'UserPopSelectionY'],\n",
       "      dtype=object)"
      ]
     },
     "execution_count": 49,
     "metadata": {},
     "output_type": "execute_result"
    }
   ],
   "source": [
    "# Which are the different rec_proivders?\n",
    "ad_recs_annotated.rec_provider.unique()"
   ]
  },
  {
   "cell_type": "code",
   "execution_count": 50,
   "id": "73d605c8-1a62-4404-a594-23279d45db85",
   "metadata": {},
   "outputs": [
    {
     "data": {
      "text/plain": [
       "region\n",
       "DE     9\n",
       "GB    12\n",
       "IN     6\n",
       "JP     9\n",
       "US    14\n",
       "Name: rec_provider, dtype: int64"
      ]
     },
     "execution_count": 50,
     "metadata": {},
     "output_type": "execute_result"
    }
   ],
   "source": [
    "#Are there different rec providers per region? \n",
    "ad_recs_annotated.groupby(['region']).rec_provider.nunique()"
   ]
  },
  {
   "cell_type": "code",
   "execution_count": 51,
   "id": "f10a491a-6c96-40a0-b5cf-6304a54e1ad9",
   "metadata": {},
   "outputs": [
    {
     "data": {
      "text/plain": [
       "recommendation_type\n",
       "Qality    9\n",
       "Yield     9\n",
       "Name: rec_provider, dtype: int64"
      ]
     },
     "execution_count": 51,
     "metadata": {},
     "output_type": "execute_result"
    }
   ],
   "source": [
    "# Are there different rec providers per rec type?\n",
    "ad_recs_annotated.groupby('recommendation_type').rec_provider.nunique()"
   ]
  },
  {
   "cell_type": "code",
   "execution_count": 52,
   "id": "6df8f797-d175-4262-a754-fa66d0512d74",
   "metadata": {},
   "outputs": [],
   "source": [
    "# What are the notation rules distinguishing between quality vs yielding providers?\n",
    "#DONT KNOW"
   ]
  },
  {
   "cell_type": "code",
   "execution_count": 53,
   "id": "5e05ccd8-2708-4f52-831d-02b5bf6892ce",
   "metadata": {},
   "outputs": [
    {
     "data": {
      "text/plain": [
       "region       \n",
       "US      True     88918\n",
       "GB      True     69509\n",
       "IN      True     63355\n",
       "DE      True     50624\n",
       "JP      True     31800\n",
       "IN      False    19799\n",
       "US      False    14928\n",
       "GB      False    13475\n",
       "DE      False    11553\n",
       "JP      False     9827\n",
       "Name: is_success, dtype: int64"
      ]
     },
     "execution_count": 53,
     "metadata": {},
     "output_type": "execute_result"
    }
   ],
   "source": [
    "# Which is the most successful region of operation? \n",
    "ad_recs_annotated.groupby(['region']).is_success.apply(lambda success: success.value_counts().nlargest(1)).sort_values(ascending=False)\n",
    "\n",
    "ad_recs_annotated.groupby(['region']).is_success.apply(lambda s : (s==\"yes\").value_counts()).sort_values(ascending=False)\n"
   ]
  },
  {
   "cell_type": "code",
   "execution_count": 54,
   "id": "71199ae6-f247-443c-a109-50ccea228242",
   "metadata": {},
   "outputs": [
    {
     "data": {
      "text/plain": [
       "region  rec_provider\n",
       "DE      DNNQ            27215\n",
       "GB      DNNQ            34681\n",
       "IN      UserPopQ        30407\n",
       "JP      DNNQ            20113\n",
       "US      DNNY            25705\n",
       "Name: is_success, dtype: int64"
      ]
     },
     "execution_count": 54,
     "metadata": {},
     "output_type": "execute_result"
    }
   ],
   "source": [
    "# Which is the most successful rec provider per each region? \n",
    "def success__count(success_vector):\n",
    "    return sum(success_vector=='yes')\n",
    "\n",
    "success_rates= ad_recs_annotated.groupby(['region','rec_provider']).is_success.apply(success__count)\n",
    "success_rates.loc[success_rates.groupby('region').idxmax()]"
   ]
  },
  {
   "cell_type": "code",
   "execution_count": 55,
   "id": "116f903a-1f30-4a62-b037-7b337a108e44",
   "metadata": {},
   "outputs": [
    {
     "data": {
      "text/plain": [
       "region  rec_provider\n",
       "DE      BooksY          96.66\n",
       "GB      RuleBased       97.50\n",
       "IN      ManualQ         95.24\n",
       "JP      ManualQ         93.40\n",
       "US      BooksY          98.55\n",
       "Name: is_success, dtype: float64"
      ]
     },
     "execution_count": 55,
     "metadata": {},
     "output_type": "execute_result"
    }
   ],
   "source": [
    "# Which is the most successful rec provider per each region? \n",
    "def success_rate (success_vector):\n",
    "    return round((success_vector == 'yes').mean() * 100, 2)\n",
    "success_rates = ad_recs_annotated.groupby(['region', 'rec_provider']).is_success.apply(success_rate)\n",
    "success_rates.loc[success_rates.groupby('region').idxmax()]"
   ]
  },
  {
   "cell_type": "code",
   "execution_count": 56,
   "id": "2c2ad34f-d553-4ca3-bdef-8d0e848c8602",
   "metadata": {},
   "outputs": [
    {
     "data": {
      "text/plain": [
       "array([nan, True, False], dtype=object)"
      ]
     },
     "execution_count": 56,
     "metadata": {},
     "output_type": "execute_result"
    }
   ],
   "source": [
    "ad_recs_annotated.is_sever.unique()"
   ]
  },
  {
   "cell_type": "code",
   "execution_count": 57,
   "id": "901f613f-17a9-4dae-9a5a-6f7fcb962ce3",
   "metadata": {},
   "outputs": [
    {
     "ename": "TypeError",
     "evalue": "cannot unpack non-iterable numpy.float64 object",
     "output_type": "error",
     "traceback": [
      "\u001b[0;31m---------------------------------------------------------------------------\u001b[0m",
      "\u001b[0;31mTypeError\u001b[0m                                 Traceback (most recent call last)",
      "\u001b[0;32m/var/folders/y9/5q7dx2j91_x2pwj_s_kllqc80000gp/T/ipykernel_8437/2205961192.py\u001b[0m in \u001b[0;36m<module>\u001b[0;34m\u001b[0m\n\u001b[1;32m     10\u001b[0m \u001b[0mstats_sev\u001b[0m \u001b[0;34m=\u001b[0m \u001b[0mad_recs_annotated\u001b[0m\u001b[0;34m.\u001b[0m\u001b[0mgroupby\u001b[0m\u001b[0;34m(\u001b[0m\u001b[0;34m[\u001b[0m\u001b[0;34m'region'\u001b[0m\u001b[0;34m]\u001b[0m\u001b[0;34m)\u001b[0m\u001b[0;34m.\u001b[0m\u001b[0mis_sever\u001b[0m\u001b[0;34m.\u001b[0m\u001b[0mapply\u001b[0m\u001b[0;34m(\u001b[0m\u001b[0mserver_count\u001b[0m\u001b[0;34m)\u001b[0m\u001b[0;34m.\u001b[0m\u001b[0magg\u001b[0m\u001b[0;34m(\u001b[0m\u001b[0;34m[\u001b[0m\u001b[0;34m'mean'\u001b[0m\u001b[0;34m,\u001b[0m \u001b[0;34m'count'\u001b[0m\u001b[0;34m,\u001b[0m \u001b[0;34m'std'\u001b[0m\u001b[0;34m]\u001b[0m\u001b[0;34m)\u001b[0m\u001b[0;34m\u001b[0m\u001b[0;34m\u001b[0m\u001b[0m\n\u001b[1;32m     11\u001b[0m \u001b[0;32mfor\u001b[0m \u001b[0mi\u001b[0m \u001b[0;32min\u001b[0m \u001b[0mstats_suc\u001b[0m\u001b[0;34m.\u001b[0m\u001b[0mindex\u001b[0m\u001b[0;34m:\u001b[0m\u001b[0;34m\u001b[0m\u001b[0;34m\u001b[0m\u001b[0m\n\u001b[0;32m---> 12\u001b[0;31m     \u001b[0mm\u001b[0m\u001b[0;34m,\u001b[0m \u001b[0mc\u001b[0m\u001b[0;34m,\u001b[0m \u001b[0ms\u001b[0m \u001b[0;34m=\u001b[0m \u001b[0mstats_suc\u001b[0m\u001b[0;34m.\u001b[0m\u001b[0mloc\u001b[0m\u001b[0;34m[\u001b[0m\u001b[0mi\u001b[0m\u001b[0;34m]\u001b[0m\u001b[0;34m\u001b[0m\u001b[0;34m\u001b[0m\u001b[0m\n\u001b[0m\u001b[1;32m     13\u001b[0m     \u001b[0mci95_suc_hi\u001b[0m\u001b[0;34m.\u001b[0m\u001b[0mappend\u001b[0m\u001b[0;34m(\u001b[0m\u001b[0mm\u001b[0m \u001b[0;34m+\u001b[0m \u001b[0;36m1.96\u001b[0m\u001b[0;34m*\u001b[0m\u001b[0ms\u001b[0m\u001b[0;34m/\u001b[0m\u001b[0mmath\u001b[0m\u001b[0;34m.\u001b[0m\u001b[0msqrt\u001b[0m\u001b[0;34m(\u001b[0m\u001b[0mc\u001b[0m\u001b[0;34m)\u001b[0m\u001b[0;34m)\u001b[0m\u001b[0;34m\u001b[0m\u001b[0;34m\u001b[0m\u001b[0m\n\u001b[1;32m     14\u001b[0m     \u001b[0mci95_suc_lo\u001b[0m\u001b[0;34m.\u001b[0m\u001b[0mappend\u001b[0m\u001b[0;34m(\u001b[0m\u001b[0mm\u001b[0m \u001b[0;34m-\u001b[0m \u001b[0;36m1.96\u001b[0m\u001b[0;34m*\u001b[0m\u001b[0ms\u001b[0m\u001b[0;34m/\u001b[0m\u001b[0mmath\u001b[0m\u001b[0;34m.\u001b[0m\u001b[0msqrt\u001b[0m\u001b[0;34m(\u001b[0m\u001b[0mc\u001b[0m\u001b[0;34m)\u001b[0m\u001b[0;34m)\u001b[0m\u001b[0;34m\u001b[0m\u001b[0;34m\u001b[0m\u001b[0m\n",
      "\u001b[0;31mTypeError\u001b[0m: cannot unpack non-iterable numpy.float64 object"
     ]
    }
   ],
   "source": [
    "#Present a table with a success rate, sever defects rate and CI (for each metric) per region\n",
    "\n",
    "def server_count(sever_vec):\n",
    "    return sum(sever_vec==True)\n",
    "ci95_sev_hi = []\n",
    "ci95_sev_lo = []\n",
    "ci95_suc_hi = []\n",
    "ci95_suc_lo = []\n",
    "stats_suc = ad_recs_annotated.groupby(['region']).is_success.apply(success__count).agg(['mean', 'count', 'std'])\n",
    "stats_sev = ad_recs_annotated.groupby(['region']).is_sever.apply(server_count).agg(['mean', 'count', 'std'])\n",
    "for i in stats_suc.index:\n",
    "    m, c, s = stats_suc.loc[i]\n",
    "    ci95_suc_hi.append(m + 1.96*s/math.sqrt(c))\n",
    "    ci95_suc_lo.append(m - 1.96*s/math.sqrt(c))\n",
    "df_6[\"CI_suc_high\"] = ci95_suc_hi\n",
    "df_6[\"CI_suc_low\"]  = ci95_suc_lo\n",
    "\n",
    "for i in stats_sev.index:\n",
    "    m, c, s = stats_sev.loc[i]\n",
    "    ci95_sev_hi.append(m + 1.96*s/math.sqrt(c))\n",
    "    ci95_sev_lo.append(m - 1.96*s/math.sqrt(c))\n",
    "df_6[\"CI_sev_high\"] = ci95_sev_hi\n",
    "df_6[\"CI_sev_low\"]  = ci95_sev_lo"
   ]
  },
  {
   "cell_type": "code",
   "execution_count": 58,
   "id": "a74a5c21-2f2a-4350-8302-d7b2f3ce9d13",
   "metadata": {},
   "outputs": [],
   "source": [
    "#Present a table with a success rate, sever defects rate and CI (for each metric) per region\n",
    "# ad_recs_annotated.groupby(['region']).descibe()\n",
    "\n",
    "import math\n",
    "def calulateCI(vector,success_val):\n",
    "    vec_mean = (vector==success_val).mean()\n",
    "    vec_std = (vector==success_val).std()\n",
    "    vec_count = vector.count()\n",
    "    down_ci = (vec_mean - 1.96*vec_std/math.sqrt(vec_count))\n",
    "    upper_ci = (vec_mean + 1.96*vec_std/math.sqrt(vec_count))\n",
    "    return (upper_ci-down_ci)\n"
   ]
  },
  {
   "cell_type": "code",
   "execution_count": 59,
   "id": "722ca136-fee7-48f2-9c1e-9e5d624d40e3",
   "metadata": {},
   "outputs": [
    {
     "data": {
      "text/plain": [
       "region\n",
       "DE    0.006115\n",
       "GB    0.005019\n",
       "IN    0.005790\n",
       "JP    0.008159\n",
       "US    0.004268\n",
       "Name: CI_success, dtype: float64"
      ]
     },
     "execution_count": 59,
     "metadata": {},
     "output_type": "execute_result"
    }
   ],
   "source": [
    " ad_recs_annotated.groupby(['region']).is_success.apply(lambda x: calulateCI(x,'yes')).rename('CI_success')\n"
   ]
  },
  {
   "cell_type": "code",
   "execution_count": null,
   "id": "484cfffe-006f-4d88-99e3-5032d959d470",
   "metadata": {},
   "outputs": [],
   "source": []
  },
  {
   "cell_type": "code",
   "execution_count": 126,
   "id": "badee155-1650-4ac5-891f-a7706fbf1b45",
   "metadata": {},
   "outputs": [],
   "source": [
    "#Present a table with a success rate, sever defects rate and CI (for each metric) per region\n",
    "\n",
    "def calculateCI(vector,success_val):\n",
    "    vec_mean = (vector==success_val).mean()\n",
    "    vec_std = (vector==success_val).std()\n",
    "    vec_count = vector.count()\n",
    "    down_ci = round(vec_mean - 1.96*vec_std/math.sqrt(vec_count),2)\n",
    "    upper_ci = round(vec_mean + 1.96*vec_std/math.sqrt(vec_count),2)\n",
    "    return (upper_ci-down_ci)\n",
    "\n",
    "def success_rate(vector):\n",
    "    return round((vector==\"yes\").mean()*100,2)\n",
    "\n",
    "def sever_rate(vector):\n",
    "    return round((vector==True).mean()*100,2)\n",
    "\n"
   ]
  },
  {
   "cell_type": "code",
   "execution_count": 127,
   "id": "7f36577d-c58a-4e95-b18a-6b444efb83db",
   "metadata": {},
   "outputs": [],
   "source": [
    "grpPointer = ad_recs_annotated.groupby(['region'])\n",
    "\n",
    "ci_success= grpPointer.is_success.apply(lambda x: calculateCI(x,'yes')).rename('ci_success')\n",
    "rate_success = grpPointer.is_success.apply(success_rate).rename('rate_success')\n",
    "rate_sever = grpPointer.is_sever.apply(lambda x: calculateCI(x,True)).rename('ci_sever')\n",
    "ci_sever = grpPointer.is_sever.apply(sever_rate).rename('rate_sever')\n",
    "successSeverDF=pd.concat([ci_success,rate_success,ci_sever,rate_sever],axis=1)\n",
    "\n"
   ]
  },
  {
   "cell_type": "markdown",
   "id": "c0b79c48-f662-4806-af04-44558ef9cc5e",
   "metadata": {},
   "source": [
    "### Define Function To Create A Dynamic Groups Valuation"
   ]
  },
  {
   "cell_type": "code",
   "execution_count": 62,
   "id": "e333bfc0-2618-4ade-9ef6-2cc6afe18486",
   "metadata": {},
   "outputs": [],
   "source": [
    "def tableCreationOnGroup(grpPointer):\n",
    "    ci_success= grpPointer.is_success.apply(lambda x: calculateCI(x,'yes')).rename('ci_success')\n",
    "    rate_success = grpPointer.is_success.apply(success_rate).rename('rate_success')\n",
    "    rate_sever = grpPointer.is_sever.apply(lambda x: calculateCI(x,True)).rename('ci_sever')\n",
    "    ci_sever = grpPointer.is_sever.apply(sever_rate).rename('rate_sever')\n",
    "    return pd.concat([ci_success,rate_success,ci_sever,rate_sever],axis=1)\n"
   ]
  },
  {
   "cell_type": "code",
   "execution_count": null,
   "id": "8c073c80-d707-410e-9c6b-4166371a7d72",
   "metadata": {},
   "outputs": [],
   "source": []
  },
  {
   "cell_type": "code",
   "execution_count": 63,
   "id": "080419c7-970c-4534-b2fd-6ec2a941d626",
   "metadata": {},
   "outputs": [
    {
     "data": {
      "text/html": [
       "<div>\n",
       "<style scoped>\n",
       "    .dataframe tbody tr th:only-of-type {\n",
       "        vertical-align: middle;\n",
       "    }\n",
       "\n",
       "    .dataframe tbody tr th {\n",
       "        vertical-align: top;\n",
       "    }\n",
       "\n",
       "    .dataframe thead th {\n",
       "        text-align: right;\n",
       "    }\n",
       "</style>\n",
       "<table border=\"1\" class=\"dataframe\">\n",
       "  <thead>\n",
       "    <tr style=\"text-align: right;\">\n",
       "      <th></th>\n",
       "      <th>ci_success</th>\n",
       "      <th>rate_success</th>\n",
       "      <th>rate_sever</th>\n",
       "      <th>ci_sever</th>\n",
       "    </tr>\n",
       "    <tr>\n",
       "      <th>rec_provider</th>\n",
       "      <th></th>\n",
       "      <th></th>\n",
       "      <th></th>\n",
       "      <th></th>\n",
       "    </tr>\n",
       "  </thead>\n",
       "  <tbody>\n",
       "    <tr>\n",
       "      <th>BooksQ</th>\n",
       "      <td>(0.85, 0.82)</td>\n",
       "      <td>83.66</td>\n",
       "      <td>1.63</td>\n",
       "      <td>(0.03, 0.0)</td>\n",
       "    </tr>\n",
       "    <tr>\n",
       "      <th>BooksY</th>\n",
       "      <td>(0.98, 0.98)</td>\n",
       "      <td>97.98</td>\n",
       "      <td>0.53</td>\n",
       "      <td>(0.02, -0.01)</td>\n",
       "    </tr>\n",
       "    <tr>\n",
       "      <th>DNNQ</th>\n",
       "      <td>(0.86, 0.86)</td>\n",
       "      <td>85.84</td>\n",
       "      <td>11.91</td>\n",
       "      <td>(0.12, 0.11)</td>\n",
       "    </tr>\n",
       "    <tr>\n",
       "      <th>DNNY</th>\n",
       "      <td>(0.89, 0.88)</td>\n",
       "      <td>88.67</td>\n",
       "      <td>8.57</td>\n",
       "      <td>(0.09, 0.08)</td>\n",
       "    </tr>\n",
       "    <tr>\n",
       "      <th>ManualQ</th>\n",
       "      <td>(0.96, 0.95)</td>\n",
       "      <td>95.32</td>\n",
       "      <td>2.47</td>\n",
       "      <td>(0.04, 0.01)</td>\n",
       "    </tr>\n",
       "    <tr>\n",
       "      <th>ManualY</th>\n",
       "      <td>(0.92, 0.89)</td>\n",
       "      <td>90.57</td>\n",
       "      <td>4.99</td>\n",
       "      <td>(0.08, 0.02)</td>\n",
       "    </tr>\n",
       "    <tr>\n",
       "      <th>RNNQ</th>\n",
       "      <td>(0.91, 0.9)</td>\n",
       "      <td>90.25</td>\n",
       "      <td>7.36</td>\n",
       "      <td>(0.08, 0.06)</td>\n",
       "    </tr>\n",
       "    <tr>\n",
       "      <th>RNNY</th>\n",
       "      <td>(0.92, 0.91)</td>\n",
       "      <td>91.97</td>\n",
       "      <td>5.00</td>\n",
       "      <td>(0.06, 0.04)</td>\n",
       "    </tr>\n",
       "    <tr>\n",
       "      <th>RuleBased</th>\n",
       "      <td>(0.99, 0.94)</td>\n",
       "      <td>96.70</td>\n",
       "      <td>3.30</td>\n",
       "      <td>(0.18, -0.11)</td>\n",
       "    </tr>\n",
       "    <tr>\n",
       "      <th>RuleBasedY</th>\n",
       "      <td>(0.58, 0.57)</td>\n",
       "      <td>57.46</td>\n",
       "      <td>22.39</td>\n",
       "      <td>(0.23, 0.22)</td>\n",
       "    </tr>\n",
       "    <tr>\n",
       "      <th>UserPopQ</th>\n",
       "      <td>(0.75, 0.74)</td>\n",
       "      <td>74.76</td>\n",
       "      <td>11.99</td>\n",
       "      <td>(0.12, 0.12)</td>\n",
       "    </tr>\n",
       "    <tr>\n",
       "      <th>UserPopSelectionQ</th>\n",
       "      <td>(0.83, 0.8)</td>\n",
       "      <td>81.51</td>\n",
       "      <td>11.13</td>\n",
       "      <td>(0.14, 0.08)</td>\n",
       "    </tr>\n",
       "    <tr>\n",
       "      <th>UserPopSelectionY</th>\n",
       "      <td>(1.01, 0.7)</td>\n",
       "      <td>85.71</td>\n",
       "      <td>4.76</td>\n",
       "      <td>(0.29, -0.2)</td>\n",
       "    </tr>\n",
       "    <tr>\n",
       "      <th>UserPopY</th>\n",
       "      <td>(0.73, 0.72)</td>\n",
       "      <td>72.68</td>\n",
       "      <td>19.46</td>\n",
       "      <td>(0.2, 0.19)</td>\n",
       "    </tr>\n",
       "    <tr>\n",
       "      <th>XGBQ</th>\n",
       "      <td>(0.81, 0.8)</td>\n",
       "      <td>80.51</td>\n",
       "      <td>10.59</td>\n",
       "      <td>(0.12, 0.09)</td>\n",
       "    </tr>\n",
       "    <tr>\n",
       "      <th>XGBY</th>\n",
       "      <td>(0.88, 0.86)</td>\n",
       "      <td>87.04</td>\n",
       "      <td>9.24</td>\n",
       "      <td>(0.12, 0.07)</td>\n",
       "    </tr>\n",
       "  </tbody>\n",
       "</table>\n",
       "</div>"
      ],
      "text/plain": [
       "                     ci_success  rate_success  rate_sever       ci_sever\n",
       "rec_provider                                                            \n",
       "BooksQ             (0.85, 0.82)         83.66        1.63    (0.03, 0.0)\n",
       "BooksY             (0.98, 0.98)         97.98        0.53  (0.02, -0.01)\n",
       "DNNQ               (0.86, 0.86)         85.84       11.91   (0.12, 0.11)\n",
       "DNNY               (0.89, 0.88)         88.67        8.57   (0.09, 0.08)\n",
       "ManualQ            (0.96, 0.95)         95.32        2.47   (0.04, 0.01)\n",
       "ManualY            (0.92, 0.89)         90.57        4.99   (0.08, 0.02)\n",
       "RNNQ                (0.91, 0.9)         90.25        7.36   (0.08, 0.06)\n",
       "RNNY               (0.92, 0.91)         91.97        5.00   (0.06, 0.04)\n",
       "RuleBased          (0.99, 0.94)         96.70        3.30  (0.18, -0.11)\n",
       "RuleBasedY         (0.58, 0.57)         57.46       22.39   (0.23, 0.22)\n",
       "UserPopQ           (0.75, 0.74)         74.76       11.99   (0.12, 0.12)\n",
       "UserPopSelectionQ   (0.83, 0.8)         81.51       11.13   (0.14, 0.08)\n",
       "UserPopSelectionY   (1.01, 0.7)         85.71        4.76   (0.29, -0.2)\n",
       "UserPopY           (0.73, 0.72)         72.68       19.46    (0.2, 0.19)\n",
       "XGBQ                (0.81, 0.8)         80.51       10.59   (0.12, 0.09)\n",
       "XGBY               (0.88, 0.86)         87.04        9.24   (0.12, 0.07)"
      ]
     },
     "execution_count": 63,
     "metadata": {},
     "output_type": "execute_result"
    }
   ],
   "source": [
    "# Present a table with a success rate, sever defects rate and CI (for each metric) per rec provider\n",
    "tableCreationOnGroup(ad_recs_annotated.groupby(['rec_provider']))"
   ]
  },
  {
   "cell_type": "code",
   "execution_count": 64,
   "id": "7a2f1aef-b85d-4aeb-a79b-c28b5e6d8c9e",
   "metadata": {},
   "outputs": [
    {
     "data": {
      "text/html": [
       "<div>\n",
       "<style scoped>\n",
       "    .dataframe tbody tr th:only-of-type {\n",
       "        vertical-align: middle;\n",
       "    }\n",
       "\n",
       "    .dataframe tbody tr th {\n",
       "        vertical-align: top;\n",
       "    }\n",
       "\n",
       "    .dataframe thead th {\n",
       "        text-align: right;\n",
       "    }\n",
       "</style>\n",
       "<table border=\"1\" class=\"dataframe\">\n",
       "  <thead>\n",
       "    <tr style=\"text-align: right;\">\n",
       "      <th></th>\n",
       "      <th></th>\n",
       "      <th>ci_success</th>\n",
       "      <th>rate_success</th>\n",
       "      <th>rate_sever</th>\n",
       "      <th>ci_sever</th>\n",
       "    </tr>\n",
       "    <tr>\n",
       "      <th>region</th>\n",
       "      <th>rec_provider</th>\n",
       "      <th></th>\n",
       "      <th></th>\n",
       "      <th></th>\n",
       "      <th></th>\n",
       "    </tr>\n",
       "  </thead>\n",
       "  <tbody>\n",
       "    <tr>\n",
       "      <th rowspan=\"9\" valign=\"top\">DE</th>\n",
       "      <th>BooksQ</th>\n",
       "      <td>(0.82, 0.78)</td>\n",
       "      <td>79.97</td>\n",
       "      <td>1.92</td>\n",
       "      <td>(0.04, 0.0)</td>\n",
       "    </tr>\n",
       "    <tr>\n",
       "      <th>BooksY</th>\n",
       "      <td>(0.98, 0.96)</td>\n",
       "      <td>96.66</td>\n",
       "      <td>0.80</td>\n",
       "      <td>(0.03, -0.02)</td>\n",
       "    </tr>\n",
       "    <tr>\n",
       "      <th>DNNQ</th>\n",
       "      <td>(0.84, 0.84)</td>\n",
       "      <td>83.91</td>\n",
       "      <td>12.29</td>\n",
       "      <td>(0.13, 0.11)</td>\n",
       "    </tr>\n",
       "    <tr>\n",
       "      <th>DNNY</th>\n",
       "      <td>(0.92, 0.91)</td>\n",
       "      <td>91.73</td>\n",
       "      <td>4.98</td>\n",
       "      <td>(0.07, 0.03)</td>\n",
       "    </tr>\n",
       "    <tr>\n",
       "      <th>ManualQ</th>\n",
       "      <td>(0.88, 0.84)</td>\n",
       "      <td>85.74</td>\n",
       "      <td>4.86</td>\n",
       "      <td>(0.08, 0.01)</td>\n",
       "    </tr>\n",
       "    <tr>\n",
       "      <th>ManualY</th>\n",
       "      <td>(0.98, 0.94)</td>\n",
       "      <td>96.03</td>\n",
       "      <td>3.97</td>\n",
       "      <td>(0.12, -0.04)</td>\n",
       "    </tr>\n",
       "    <tr>\n",
       "      <th>RuleBasedY</th>\n",
       "      <td>(0.66, 0.61)</td>\n",
       "      <td>63.32</td>\n",
       "      <td>10.72</td>\n",
       "      <td>(0.13, 0.08)</td>\n",
       "    </tr>\n",
       "    <tr>\n",
       "      <th>UserPopQ</th>\n",
       "      <td>(0.74, 0.72)</td>\n",
       "      <td>73.11</td>\n",
       "      <td>13.40</td>\n",
       "      <td>(0.14, 0.12)</td>\n",
       "    </tr>\n",
       "    <tr>\n",
       "      <th>UserPopY</th>\n",
       "      <td>(0.79, 0.77)</td>\n",
       "      <td>77.95</td>\n",
       "      <td>14.74</td>\n",
       "      <td>(0.17, 0.12)</td>\n",
       "    </tr>\n",
       "    <tr>\n",
       "      <th rowspan=\"12\" valign=\"top\">GB</th>\n",
       "      <th>DNNQ</th>\n",
       "      <td>(0.88, 0.87)</td>\n",
       "      <td>87.41</td>\n",
       "      <td>10.94</td>\n",
       "      <td>(0.12, 0.1)</td>\n",
       "    </tr>\n",
       "    <tr>\n",
       "      <th>DNNY</th>\n",
       "      <td>(0.87, 0.85)</td>\n",
       "      <td>85.80</td>\n",
       "      <td>11.14</td>\n",
       "      <td>(0.13, 0.09)</td>\n",
       "    </tr>\n",
       "    <tr>\n",
       "      <th>ManualQ</th>\n",
       "      <td>(0.97, 0.96)</td>\n",
       "      <td>96.66</td>\n",
       "      <td>2.18</td>\n",
       "      <td>(0.06, -0.01)</td>\n",
       "    </tr>\n",
       "    <tr>\n",
       "      <th>ManualY</th>\n",
       "      <td>(0.9, 0.85)</td>\n",
       "      <td>87.34</td>\n",
       "      <td>8.32</td>\n",
       "      <td>(0.15, 0.02)</td>\n",
       "    </tr>\n",
       "    <tr>\n",
       "      <th>RNNQ</th>\n",
       "      <td>(0.9, 0.89)</td>\n",
       "      <td>89.25</td>\n",
       "      <td>8.14</td>\n",
       "      <td>(0.1, 0.07)</td>\n",
       "    </tr>\n",
       "    <tr>\n",
       "      <th>RNNY</th>\n",
       "      <td>(0.89, 0.86)</td>\n",
       "      <td>87.21</td>\n",
       "      <td>8.59</td>\n",
       "      <td>(0.12, 0.05)</td>\n",
       "    </tr>\n",
       "    <tr>\n",
       "      <th>RuleBased</th>\n",
       "      <td>(1.02, 0.93)</td>\n",
       "      <td>97.50</td>\n",
       "      <td>2.50</td>\n",
       "      <td>(0.33, -0.28)</td>\n",
       "    </tr>\n",
       "    <tr>\n",
       "      <th>RuleBasedY</th>\n",
       "      <td>(0.4, 0.35)</td>\n",
       "      <td>37.70</td>\n",
       "      <td>50.95</td>\n",
       "      <td>(0.54, 0.48)</td>\n",
       "    </tr>\n",
       "    <tr>\n",
       "      <th>UserPopQ</th>\n",
       "      <td>(0.68, 0.66)</td>\n",
       "      <td>67.26</td>\n",
       "      <td>17.37</td>\n",
       "      <td>(0.19, 0.16)</td>\n",
       "    </tr>\n",
       "    <tr>\n",
       "      <th>UserPopY</th>\n",
       "      <td>(0.68, 0.64)</td>\n",
       "      <td>65.90</td>\n",
       "      <td>25.94</td>\n",
       "      <td>(0.3, 0.22)</td>\n",
       "    </tr>\n",
       "    <tr>\n",
       "      <th>XGBQ</th>\n",
       "      <td>(0.81, 0.79)</td>\n",
       "      <td>80.08</td>\n",
       "      <td>10.78</td>\n",
       "      <td>(0.12, 0.09)</td>\n",
       "    </tr>\n",
       "    <tr>\n",
       "      <th>XGBY</th>\n",
       "      <td>(0.88, 0.84)</td>\n",
       "      <td>86.20</td>\n",
       "      <td>9.96</td>\n",
       "      <td>(0.15, 0.05)</td>\n",
       "    </tr>\n",
       "    <tr>\n",
       "      <th rowspan=\"6\" valign=\"top\">IN</th>\n",
       "      <th>ManualQ</th>\n",
       "      <td>(0.96, 0.95)</td>\n",
       "      <td>95.24</td>\n",
       "      <td>2.34</td>\n",
       "      <td>(0.04, 0.0)</td>\n",
       "    </tr>\n",
       "    <tr>\n",
       "      <th>ManualY</th>\n",
       "      <td>(0.97, 0.91)</td>\n",
       "      <td>94.22</td>\n",
       "      <td>0.00</td>\n",
       "      <td>(0.0, 0.0)</td>\n",
       "    </tr>\n",
       "    <tr>\n",
       "      <th>RuleBased</th>\n",
       "      <td>(1.14, 0.58)</td>\n",
       "      <td>85.71</td>\n",
       "      <td>14.29</td>\n",
       "      <td>(0.88, -0.6)</td>\n",
       "    </tr>\n",
       "    <tr>\n",
       "      <th>RuleBasedY</th>\n",
       "      <td>(0.64, 0.62)</td>\n",
       "      <td>62.80</td>\n",
       "      <td>22.66</td>\n",
       "      <td>(0.24, 0.22)</td>\n",
       "    </tr>\n",
       "    <tr>\n",
       "      <th>UserPopQ</th>\n",
       "      <td>(0.8, 0.79)</td>\n",
       "      <td>79.55</td>\n",
       "      <td>9.39</td>\n",
       "      <td>(0.1, 0.09)</td>\n",
       "    </tr>\n",
       "    <tr>\n",
       "      <th>UserPopY</th>\n",
       "      <td>(0.75, 0.74)</td>\n",
       "      <td>74.44</td>\n",
       "      <td>19.07</td>\n",
       "      <td>(0.2, 0.18)</td>\n",
       "    </tr>\n",
       "    <tr>\n",
       "      <th rowspan=\"9\" valign=\"top\">JP</th>\n",
       "      <th>DNNQ</th>\n",
       "      <td>(0.82, 0.81)</td>\n",
       "      <td>81.85</td>\n",
       "      <td>16.35</td>\n",
       "      <td>(0.17, 0.15)</td>\n",
       "    </tr>\n",
       "    <tr>\n",
       "      <th>DNNY</th>\n",
       "      <td>(0.81, 0.79)</td>\n",
       "      <td>80.10</td>\n",
       "      <td>13.92</td>\n",
       "      <td>(0.16, 0.11)</td>\n",
       "    </tr>\n",
       "    <tr>\n",
       "      <th>ManualQ</th>\n",
       "      <td>(0.95, 0.92)</td>\n",
       "      <td>93.40</td>\n",
       "      <td>3.59</td>\n",
       "      <td>(0.09, -0.02)</td>\n",
       "    </tr>\n",
       "    <tr>\n",
       "      <th>ManualY</th>\n",
       "      <td>(0.63, 0.46)</td>\n",
       "      <td>54.40</td>\n",
       "      <td>10.40</td>\n",
       "      <td>(0.18, 0.02)</td>\n",
       "    </tr>\n",
       "    <tr>\n",
       "      <th>RuleBasedY</th>\n",
       "      <td>(0.36, 0.29)</td>\n",
       "      <td>32.38</td>\n",
       "      <td>22.01</td>\n",
       "      <td>(0.26, 0.18)</td>\n",
       "    </tr>\n",
       "    <tr>\n",
       "      <th>UserPopQ</th>\n",
       "      <td>(0.64, 0.62)</td>\n",
       "      <td>62.93</td>\n",
       "      <td>15.69</td>\n",
       "      <td>(0.17, 0.14)</td>\n",
       "    </tr>\n",
       "    <tr>\n",
       "      <th>UserPopSelectionQ</th>\n",
       "      <td>(0.83, 0.8)</td>\n",
       "      <td>81.51</td>\n",
       "      <td>11.13</td>\n",
       "      <td>(0.14, 0.08)</td>\n",
       "    </tr>\n",
       "    <tr>\n",
       "      <th>UserPopSelectionY</th>\n",
       "      <td>(1.01, 0.7)</td>\n",
       "      <td>85.71</td>\n",
       "      <td>4.76</td>\n",
       "      <td>(0.29, -0.2)</td>\n",
       "    </tr>\n",
       "    <tr>\n",
       "      <th>UserPopY</th>\n",
       "      <td>(0.53, 0.48)</td>\n",
       "      <td>50.54</td>\n",
       "      <td>15.47</td>\n",
       "      <td>(0.18, 0.13)</td>\n",
       "    </tr>\n",
       "    <tr>\n",
       "      <th rowspan=\"14\" valign=\"top\">US</th>\n",
       "      <th>BooksQ</th>\n",
       "      <td>(0.99, 0.96)</td>\n",
       "      <td>97.28</td>\n",
       "      <td>0.54</td>\n",
       "      <td>(0.05, -0.04)</td>\n",
       "    </tr>\n",
       "    <tr>\n",
       "      <th>BooksY</th>\n",
       "      <td>(0.99, 0.98)</td>\n",
       "      <td>98.55</td>\n",
       "      <td>0.41</td>\n",
       "      <td>(0.02, -0.02)</td>\n",
       "    </tr>\n",
       "    <tr>\n",
       "      <th>DNNQ</th>\n",
       "      <td>(0.91, 0.9)</td>\n",
       "      <td>90.57</td>\n",
       "      <td>7.90</td>\n",
       "      <td>(0.09, 0.07)</td>\n",
       "    </tr>\n",
       "    <tr>\n",
       "      <th>DNNY</th>\n",
       "      <td>(0.9, 0.9)</td>\n",
       "      <td>89.98</td>\n",
       "      <td>7.87</td>\n",
       "      <td>(0.09, 0.07)</td>\n",
       "    </tr>\n",
       "    <tr>\n",
       "      <th>ManualQ</th>\n",
       "      <td>(0.98, 0.97)</td>\n",
       "      <td>97.04</td>\n",
       "      <td>2.09</td>\n",
       "      <td>(0.04, -0.0)</td>\n",
       "    </tr>\n",
       "    <tr>\n",
       "      <th>ManualY</th>\n",
       "      <td>(0.97, 0.93)</td>\n",
       "      <td>95.15</td>\n",
       "      <td>3.38</td>\n",
       "      <td>(0.11, -0.04)</td>\n",
       "    </tr>\n",
       "    <tr>\n",
       "      <th>RNNQ</th>\n",
       "      <td>(0.92, 0.91)</td>\n",
       "      <td>91.44</td>\n",
       "      <td>6.44</td>\n",
       "      <td>(0.08, 0.05)</td>\n",
       "    </tr>\n",
       "    <tr>\n",
       "      <th>RNNY</th>\n",
       "      <td>(0.93, 0.92)</td>\n",
       "      <td>92.62</td>\n",
       "      <td>4.50</td>\n",
       "      <td>(0.06, 0.03)</td>\n",
       "    </tr>\n",
       "    <tr>\n",
       "      <th>RuleBased</th>\n",
       "      <td>(1.0, 0.94)</td>\n",
       "      <td>97.04</td>\n",
       "      <td>2.96</td>\n",
       "      <td>(0.2, -0.14)</td>\n",
       "    </tr>\n",
       "    <tr>\n",
       "      <th>RuleBasedY</th>\n",
       "      <td>(0.55, 0.53)</td>\n",
       "      <td>54.18</td>\n",
       "      <td>18.62</td>\n",
       "      <td>(0.2, 0.17)</td>\n",
       "    </tr>\n",
       "    <tr>\n",
       "      <th>UserPopQ</th>\n",
       "      <td>(0.69, 0.65)</td>\n",
       "      <td>67.34</td>\n",
       "      <td>18.77</td>\n",
       "      <td>(0.22, 0.16)</td>\n",
       "    </tr>\n",
       "    <tr>\n",
       "      <th>UserPopY</th>\n",
       "      <td>(0.71, 0.69)</td>\n",
       "      <td>69.75</td>\n",
       "      <td>22.41</td>\n",
       "      <td>(0.24, 0.21)</td>\n",
       "    </tr>\n",
       "    <tr>\n",
       "      <th>XGBQ</th>\n",
       "      <td>(0.83, 0.8)</td>\n",
       "      <td>81.79</td>\n",
       "      <td>10.02</td>\n",
       "      <td>(0.12, 0.08)</td>\n",
       "    </tr>\n",
       "    <tr>\n",
       "      <th>XGBY</th>\n",
       "      <td>(0.88, 0.86)</td>\n",
       "      <td>87.29</td>\n",
       "      <td>9.03</td>\n",
       "      <td>(0.12, 0.06)</td>\n",
       "    </tr>\n",
       "  </tbody>\n",
       "</table>\n",
       "</div>"
      ],
      "text/plain": [
       "                            ci_success  rate_success  rate_sever  \\\n",
       "region rec_provider                                                \n",
       "DE     BooksQ             (0.82, 0.78)         79.97        1.92   \n",
       "       BooksY             (0.98, 0.96)         96.66        0.80   \n",
       "       DNNQ               (0.84, 0.84)         83.91       12.29   \n",
       "       DNNY               (0.92, 0.91)         91.73        4.98   \n",
       "       ManualQ            (0.88, 0.84)         85.74        4.86   \n",
       "       ManualY            (0.98, 0.94)         96.03        3.97   \n",
       "       RuleBasedY         (0.66, 0.61)         63.32       10.72   \n",
       "       UserPopQ           (0.74, 0.72)         73.11       13.40   \n",
       "       UserPopY           (0.79, 0.77)         77.95       14.74   \n",
       "GB     DNNQ               (0.88, 0.87)         87.41       10.94   \n",
       "       DNNY               (0.87, 0.85)         85.80       11.14   \n",
       "       ManualQ            (0.97, 0.96)         96.66        2.18   \n",
       "       ManualY             (0.9, 0.85)         87.34        8.32   \n",
       "       RNNQ                (0.9, 0.89)         89.25        8.14   \n",
       "       RNNY               (0.89, 0.86)         87.21        8.59   \n",
       "       RuleBased          (1.02, 0.93)         97.50        2.50   \n",
       "       RuleBasedY          (0.4, 0.35)         37.70       50.95   \n",
       "       UserPopQ           (0.68, 0.66)         67.26       17.37   \n",
       "       UserPopY           (0.68, 0.64)         65.90       25.94   \n",
       "       XGBQ               (0.81, 0.79)         80.08       10.78   \n",
       "       XGBY               (0.88, 0.84)         86.20        9.96   \n",
       "IN     ManualQ            (0.96, 0.95)         95.24        2.34   \n",
       "       ManualY            (0.97, 0.91)         94.22        0.00   \n",
       "       RuleBased          (1.14, 0.58)         85.71       14.29   \n",
       "       RuleBasedY         (0.64, 0.62)         62.80       22.66   \n",
       "       UserPopQ            (0.8, 0.79)         79.55        9.39   \n",
       "       UserPopY           (0.75, 0.74)         74.44       19.07   \n",
       "JP     DNNQ               (0.82, 0.81)         81.85       16.35   \n",
       "       DNNY               (0.81, 0.79)         80.10       13.92   \n",
       "       ManualQ            (0.95, 0.92)         93.40        3.59   \n",
       "       ManualY            (0.63, 0.46)         54.40       10.40   \n",
       "       RuleBasedY         (0.36, 0.29)         32.38       22.01   \n",
       "       UserPopQ           (0.64, 0.62)         62.93       15.69   \n",
       "       UserPopSelectionQ   (0.83, 0.8)         81.51       11.13   \n",
       "       UserPopSelectionY   (1.01, 0.7)         85.71        4.76   \n",
       "       UserPopY           (0.53, 0.48)         50.54       15.47   \n",
       "US     BooksQ             (0.99, 0.96)         97.28        0.54   \n",
       "       BooksY             (0.99, 0.98)         98.55        0.41   \n",
       "       DNNQ                (0.91, 0.9)         90.57        7.90   \n",
       "       DNNY                 (0.9, 0.9)         89.98        7.87   \n",
       "       ManualQ            (0.98, 0.97)         97.04        2.09   \n",
       "       ManualY            (0.97, 0.93)         95.15        3.38   \n",
       "       RNNQ               (0.92, 0.91)         91.44        6.44   \n",
       "       RNNY               (0.93, 0.92)         92.62        4.50   \n",
       "       RuleBased           (1.0, 0.94)         97.04        2.96   \n",
       "       RuleBasedY         (0.55, 0.53)         54.18       18.62   \n",
       "       UserPopQ           (0.69, 0.65)         67.34       18.77   \n",
       "       UserPopY           (0.71, 0.69)         69.75       22.41   \n",
       "       XGBQ                (0.83, 0.8)         81.79       10.02   \n",
       "       XGBY               (0.88, 0.86)         87.29        9.03   \n",
       "\n",
       "                               ci_sever  \n",
       "region rec_provider                      \n",
       "DE     BooksQ               (0.04, 0.0)  \n",
       "       BooksY             (0.03, -0.02)  \n",
       "       DNNQ                (0.13, 0.11)  \n",
       "       DNNY                (0.07, 0.03)  \n",
       "       ManualQ             (0.08, 0.01)  \n",
       "       ManualY            (0.12, -0.04)  \n",
       "       RuleBasedY          (0.13, 0.08)  \n",
       "       UserPopQ            (0.14, 0.12)  \n",
       "       UserPopY            (0.17, 0.12)  \n",
       "GB     DNNQ                 (0.12, 0.1)  \n",
       "       DNNY                (0.13, 0.09)  \n",
       "       ManualQ            (0.06, -0.01)  \n",
       "       ManualY             (0.15, 0.02)  \n",
       "       RNNQ                 (0.1, 0.07)  \n",
       "       RNNY                (0.12, 0.05)  \n",
       "       RuleBased          (0.33, -0.28)  \n",
       "       RuleBasedY          (0.54, 0.48)  \n",
       "       UserPopQ            (0.19, 0.16)  \n",
       "       UserPopY             (0.3, 0.22)  \n",
       "       XGBQ                (0.12, 0.09)  \n",
       "       XGBY                (0.15, 0.05)  \n",
       "IN     ManualQ              (0.04, 0.0)  \n",
       "       ManualY               (0.0, 0.0)  \n",
       "       RuleBased           (0.88, -0.6)  \n",
       "       RuleBasedY          (0.24, 0.22)  \n",
       "       UserPopQ             (0.1, 0.09)  \n",
       "       UserPopY             (0.2, 0.18)  \n",
       "JP     DNNQ                (0.17, 0.15)  \n",
       "       DNNY                (0.16, 0.11)  \n",
       "       ManualQ            (0.09, -0.02)  \n",
       "       ManualY             (0.18, 0.02)  \n",
       "       RuleBasedY          (0.26, 0.18)  \n",
       "       UserPopQ            (0.17, 0.14)  \n",
       "       UserPopSelectionQ   (0.14, 0.08)  \n",
       "       UserPopSelectionY   (0.29, -0.2)  \n",
       "       UserPopY            (0.18, 0.13)  \n",
       "US     BooksQ             (0.05, -0.04)  \n",
       "       BooksY             (0.02, -0.02)  \n",
       "       DNNQ                (0.09, 0.07)  \n",
       "       DNNY                (0.09, 0.07)  \n",
       "       ManualQ             (0.04, -0.0)  \n",
       "       ManualY            (0.11, -0.04)  \n",
       "       RNNQ                (0.08, 0.05)  \n",
       "       RNNY                (0.06, 0.03)  \n",
       "       RuleBased           (0.2, -0.14)  \n",
       "       RuleBasedY           (0.2, 0.17)  \n",
       "       UserPopQ            (0.22, 0.16)  \n",
       "       UserPopY            (0.24, 0.21)  \n",
       "       XGBQ                (0.12, 0.08)  \n",
       "       XGBY                (0.12, 0.06)  "
      ]
     },
     "execution_count": 64,
     "metadata": {},
     "output_type": "execute_result"
    }
   ],
   "source": [
    "# Present a table with a success rate, sever defects rate and CI (for each metric) per region and rec provider combinations\n",
    "tableCreationOnGroup(ad_recs_annotated.groupby(['region','rec_provider']))"
   ]
  },
  {
   "cell_type": "code",
   "execution_count": 65,
   "id": "41be5763-507b-4c6a-ba20-a5aaa86d51c4",
   "metadata": {},
   "outputs": [
    {
     "data": {
      "text/html": [
       "<div>\n",
       "<style scoped>\n",
       "    .dataframe tbody tr th:only-of-type {\n",
       "        vertical-align: middle;\n",
       "    }\n",
       "\n",
       "    .dataframe tbody tr th {\n",
       "        vertical-align: top;\n",
       "    }\n",
       "\n",
       "    .dataframe thead th {\n",
       "        text-align: right;\n",
       "    }\n",
       "</style>\n",
       "<table border=\"1\" class=\"dataframe\">\n",
       "  <thead>\n",
       "    <tr style=\"text-align: right;\">\n",
       "      <th></th>\n",
       "      <th>ci_success</th>\n",
       "      <th>rate_success</th>\n",
       "      <th>rate_sever</th>\n",
       "      <th>ci_sever</th>\n",
       "    </tr>\n",
       "    <tr>\n",
       "      <th>recommendation_type</th>\n",
       "      <th></th>\n",
       "      <th></th>\n",
       "      <th></th>\n",
       "      <th></th>\n",
       "    </tr>\n",
       "  </thead>\n",
       "  <tbody>\n",
       "    <tr>\n",
       "      <th>Qality</th>\n",
       "      <td>(0.83, 0.83)</td>\n",
       "      <td>83.09</td>\n",
       "      <td>10.92</td>\n",
       "      <td>(0.11, 0.11)</td>\n",
       "    </tr>\n",
       "    <tr>\n",
       "      <th>Yield</th>\n",
       "      <td>(0.79, 0.78)</td>\n",
       "      <td>78.44</td>\n",
       "      <td>13.74</td>\n",
       "      <td>(0.14, 0.13)</td>\n",
       "    </tr>\n",
       "  </tbody>\n",
       "</table>\n",
       "</div>"
      ],
      "text/plain": [
       "                       ci_success  rate_success  rate_sever      ci_sever\n",
       "recommendation_type                                                      \n",
       "Qality               (0.83, 0.83)         83.09       10.92  (0.11, 0.11)\n",
       "Yield                (0.79, 0.78)         78.44       13.74  (0.14, 0.13)"
      ]
     },
     "execution_count": 65,
     "metadata": {},
     "output_type": "execute_result"
    }
   ],
   "source": [
    "# Present a table with a success rate, sever defects rate and CI (for each metric) per rec type (Q/Y)\n",
    "tableCreationOnGroup(ad_recs_annotated.groupby(['recommendation_type']))"
   ]
  },
  {
   "cell_type": "code",
   "execution_count": 66,
   "id": "c240a2d3-614c-4315-88da-70da42452d1c",
   "metadata": {},
   "outputs": [
    {
     "data": {
      "text/html": [
       "<div>\n",
       "<style scoped>\n",
       "    .dataframe tbody tr th:only-of-type {\n",
       "        vertical-align: middle;\n",
       "    }\n",
       "\n",
       "    .dataframe tbody tr th {\n",
       "        vertical-align: top;\n",
       "    }\n",
       "\n",
       "    .dataframe thead th {\n",
       "        text-align: right;\n",
       "    }\n",
       "</style>\n",
       "<table border=\"1\" class=\"dataframe\">\n",
       "  <thead>\n",
       "    <tr style=\"text-align: right;\">\n",
       "      <th></th>\n",
       "      <th></th>\n",
       "      <th>ci_success</th>\n",
       "      <th>rate_success</th>\n",
       "      <th>rate_sever</th>\n",
       "      <th>ci_sever</th>\n",
       "    </tr>\n",
       "    <tr>\n",
       "      <th>region</th>\n",
       "      <th>recommendation_type</th>\n",
       "      <th></th>\n",
       "      <th></th>\n",
       "      <th></th>\n",
       "      <th></th>\n",
       "    </tr>\n",
       "  </thead>\n",
       "  <tbody>\n",
       "    <tr>\n",
       "      <th rowspan=\"2\" valign=\"top\">DE</th>\n",
       "      <th>Qality</th>\n",
       "      <td>(0.81, 0.8)</td>\n",
       "      <td>80.67</td>\n",
       "      <td>12.15</td>\n",
       "      <td>(0.13, 0.12)</td>\n",
       "    </tr>\n",
       "    <tr>\n",
       "      <th>Yield</th>\n",
       "      <td>(0.85, 0.84)</td>\n",
       "      <td>84.60</td>\n",
       "      <td>8.01</td>\n",
       "      <td>(0.09, 0.07)</td>\n",
       "    </tr>\n",
       "    <tr>\n",
       "      <th rowspan=\"2\" valign=\"top\">GB</th>\n",
       "      <th>Qality</th>\n",
       "      <td>(0.85, 0.85)</td>\n",
       "      <td>85.04</td>\n",
       "      <td>10.83</td>\n",
       "      <td>(0.11, 0.1)</td>\n",
       "    </tr>\n",
       "    <tr>\n",
       "      <th>Yield</th>\n",
       "      <td>(0.78, 0.77)</td>\n",
       "      <td>77.25</td>\n",
       "      <td>17.77</td>\n",
       "      <td>(0.19, 0.16)</td>\n",
       "    </tr>\n",
       "    <tr>\n",
       "      <th rowspan=\"2\" valign=\"top\">IN</th>\n",
       "      <th>Qality</th>\n",
       "      <td>(0.81, 0.8)</td>\n",
       "      <td>80.61</td>\n",
       "      <td>8.90</td>\n",
       "      <td>(0.1, 0.08)</td>\n",
       "    </tr>\n",
       "    <tr>\n",
       "      <th>Yield</th>\n",
       "      <td>(0.72, 0.71)</td>\n",
       "      <td>71.92</td>\n",
       "      <td>19.15</td>\n",
       "      <td>(0.2, 0.18)</td>\n",
       "    </tr>\n",
       "    <tr>\n",
       "      <th rowspan=\"2\" valign=\"top\">JP</th>\n",
       "      <th>Qality</th>\n",
       "      <td>(0.78, 0.77)</td>\n",
       "      <td>77.78</td>\n",
       "      <td>15.66</td>\n",
       "      <td>(0.16, 0.15)</td>\n",
       "    </tr>\n",
       "    <tr>\n",
       "      <th>Yield</th>\n",
       "      <td>(0.7, 0.67)</td>\n",
       "      <td>68.40</td>\n",
       "      <td>14.66</td>\n",
       "      <td>(0.16, 0.13)</td>\n",
       "    </tr>\n",
       "    <tr>\n",
       "      <th rowspan=\"2\" valign=\"top\">US</th>\n",
       "      <th>Qality</th>\n",
       "      <td>(0.9, 0.9)</td>\n",
       "      <td>89.91</td>\n",
       "      <td>7.45</td>\n",
       "      <td>(0.08, 0.07)</td>\n",
       "    </tr>\n",
       "    <tr>\n",
       "      <th>Yield</th>\n",
       "      <td>(0.83, 0.83)</td>\n",
       "      <td>82.88</td>\n",
       "      <td>10.24</td>\n",
       "      <td>(0.11, 0.1)</td>\n",
       "    </tr>\n",
       "  </tbody>\n",
       "</table>\n",
       "</div>"
      ],
      "text/plain": [
       "                              ci_success  rate_success  rate_sever  \\\n",
       "region recommendation_type                                           \n",
       "DE     Qality                (0.81, 0.8)         80.67       12.15   \n",
       "       Yield                (0.85, 0.84)         84.60        8.01   \n",
       "GB     Qality               (0.85, 0.85)         85.04       10.83   \n",
       "       Yield                (0.78, 0.77)         77.25       17.77   \n",
       "IN     Qality                (0.81, 0.8)         80.61        8.90   \n",
       "       Yield                (0.72, 0.71)         71.92       19.15   \n",
       "JP     Qality               (0.78, 0.77)         77.78       15.66   \n",
       "       Yield                 (0.7, 0.67)         68.40       14.66   \n",
       "US     Qality                 (0.9, 0.9)         89.91        7.45   \n",
       "       Yield                (0.83, 0.83)         82.88       10.24   \n",
       "\n",
       "                                ci_sever  \n",
       "region recommendation_type                \n",
       "DE     Qality               (0.13, 0.12)  \n",
       "       Yield                (0.09, 0.07)  \n",
       "GB     Qality                (0.11, 0.1)  \n",
       "       Yield                (0.19, 0.16)  \n",
       "IN     Qality                (0.1, 0.08)  \n",
       "       Yield                 (0.2, 0.18)  \n",
       "JP     Qality               (0.16, 0.15)  \n",
       "       Yield                (0.16, 0.13)  \n",
       "US     Qality               (0.08, 0.07)  \n",
       "       Yield                 (0.11, 0.1)  "
      ]
     },
     "execution_count": 66,
     "metadata": {},
     "output_type": "execute_result"
    }
   ],
   "source": [
    "# Present a table with a success rate, sever defects rate and CI (for each metric) per rec type and region\n",
    "tableCreationOnGroup(ad_recs_annotated.groupby(['region','recommendation_type']))"
   ]
  },
  {
   "cell_type": "code",
   "execution_count": 131,
   "id": "8188b8b6-4f07-45c8-b04e-d1d68f895c00",
   "metadata": {},
   "outputs": [
    {
     "data": {
      "image/png": "[encoded data removed]",
      "text/plain": [
       "<Figure size 640x480 with 1 Axes>"
      ]
     },
     "metadata": {},
     "output_type": "display_data"
    }
   ],
   "source": [
    "import matplotlib.pyplot as plt\n",
    "import numpy as np\n",
    "\n",
    "\n",
    "ax = plt.subplot(111)\n",
    "t1 = np.arange(0.0, 1.0, 0.01)\n",
    "for n in successSeverDF.index.tolist():\n",
    "    plt.plot(successSeverDF.rate_success.values, successSeverDF.ci_success.values, label=\"{}\".format(n))\n",
    "\n",
    "leg = plt.legend(loc='best', ncol=len(successSeverDF.index.tolist()), mode=\"expand\", shadow=True, fancybox=True)\n",
    "leg.get_frame().set_alpha(0.5)\n",
    "\n",
    "\n",
    "plt.show()\n"
   ]
  },
  {
   "cell_type": "code",
   "execution_count": 125,
   "id": "68c6248f-9c72-41e9-a31a-f6409c8b2459",
   "metadata": {},
   "outputs": [
    {
     "name": "stdout",
     "output_type": "stream",
     "text": [
      "ci_success\n",
      "rate_success\n",
      "rate_sever\n",
      "ci_sever\n"
     ]
    },
    {
     "data": {
      "text/plain": [
       "array([(0.82, 0.81), (0.84, 0.84), (0.76, 0.76), (0.77, 0.76),\n",
       "       (0.86, 0.85)], dtype=object)"
      ]
     },
     "execution_count": 125,
     "metadata": {},
     "output_type": "execute_result"
    }
   ],
   "source": [
    "# Present WoW table/graph with success rate and CI (see image below) per region\n",
    "for row in successSeverDF:\n",
    "    print(row)\n",
    "\n",
    "successSeverDF.ci_success.values\n",
    "\n",
    "#successSeverDF.plot(x='ci_success',y='rate_success',kind='line')"
   ]
  },
  {
   "cell_type": "code",
   "execution_count": 69,
   "id": "29488ee6-2f54-4153-8576-e289218ef44d",
   "metadata": {},
   "outputs": [],
   "source": [
    "# Present WoW table/graph with success rate and CI (see image below) per region and rec type\n"
   ]
  },
  {
   "cell_type": "code",
   "execution_count": 70,
   "id": "4fcfe8a2-2083-4e78-ab1f-ac086bdbab85",
   "metadata": {},
   "outputs": [],
   "source": [
    "# Present WoW table/graph with success rate and CI (see image below) per region and rec provider"
   ]
  },
  {
   "cell_type": "code",
   "execution_count": null,
   "id": "725f69fb-e74b-47c6-a5e8-e85301eed6e2",
   "metadata": {},
   "outputs": [],
   "source": []
  },
  {
   "cell_type": "markdown",
   "id": "ccd49645-542e-4dbf-b0c4-b197c974a528",
   "metadata": {},
   "source": [
    "Analysis Bonus questions:\n",
    "1. Compute the per region success rate and CI in trailing weeks, Say, 4 weeks instead of 1 week - to allow for smoother estimations and smaller CIs"
   ]
  },
  {
   "cell_type": "markdown",
   "id": "a7b125da-e9d6-41d4-974c-cc333660995c",
   "metadata": {},
   "source": [
    "### Compactization"
   ]
  },
  {
   "cell_type": "markdown",
   "id": "905e4e19-8ceb-44b1-8496-eb14e107ccbd",
   "metadata": {},
   "source": [
    "* Are there duplicated ads? To compac the data, remove duplicated ads and instead add an ad_count column **(pay attention, this is not trivial at all)**"
   ]
  },
  {
   "cell_type": "markdown",
   "id": "cbd7201c-98c2-4d59-a76e-e098dc5d9e43",
   "metadata": {},
   "source": [
    "### Merges and joins"
   ]
  },
  {
   "cell_type": "markdown",
   "id": "d78fa97c-4736-41c5-a649-931808eb8b30",
   "metadata": {},
   "source": [
    "The Wow samples and annotations task were sent and recieve seperatly, per each week. The dataset you were working on was constructed from those files. You can see the files under the `data/weekly` folder, here are the first 10 files:"
   ]
  },
  {
   "cell_type": "code",
   "execution_count": 71,
   "id": "81341f62-9161-4f1a-a678-251baba01564",
   "metadata": {},
   "outputs": [
    {
     "ename": "FileNotFoundError",
     "evalue": "[Errno 2] No such file or directory: 'data/weekly/'",
     "output_type": "error",
     "traceback": [
      "\u001b[0;31m---------------------------------------------------------------------------\u001b[0m",
      "\u001b[0;31mFileNotFoundError\u001b[0m                         Traceback (most recent call last)",
      "\u001b[0;32m/var/folders/y9/5q7dx2j91_x2pwj_s_kllqc80000gp/T/ipykernel_8437/3900050169.py\u001b[0m in \u001b[0;36m<module>\u001b[0;34m\u001b[0m\n\u001b[1;32m      1\u001b[0m \u001b[0;32mimport\u001b[0m \u001b[0mos\u001b[0m\u001b[0;34m\u001b[0m\u001b[0;34m\u001b[0m\u001b[0m\n\u001b[0;32m----> 2\u001b[0;31m \u001b[0mweekly_files\u001b[0m \u001b[0;34m=\u001b[0m \u001b[0mos\u001b[0m\u001b[0;34m.\u001b[0m\u001b[0mlistdir\u001b[0m\u001b[0;34m(\u001b[0m\u001b[0;34m'data/weekly/'\u001b[0m\u001b[0;34m)\u001b[0m\u001b[0;34m\u001b[0m\u001b[0;34m\u001b[0m\u001b[0m\n\u001b[0m\u001b[1;32m      3\u001b[0m \u001b[0msorted\u001b[0m\u001b[0;34m(\u001b[0m\u001b[0mweekly_files\u001b[0m\u001b[0;34m)\u001b[0m\u001b[0;34m[\u001b[0m\u001b[0;34m:\u001b[0m\u001b[0;36m10\u001b[0m\u001b[0;34m]\u001b[0m\u001b[0;34m\u001b[0m\u001b[0;34m\u001b[0m\u001b[0m\n",
      "\u001b[0;31mFileNotFoundError\u001b[0m: [Errno 2] No such file or directory: 'data/weekly/'"
     ]
    }
   ],
   "source": [
    "import os\n",
    "weekly_files = os.listdir('data/weekly/')\n",
    "sorted(weekly_files)[:10]"
   ]
  },
  {
   "cell_type": "markdown",
   "id": "a0882bd4-9b7a-4ea1-a047-348e5e3f0980",
   "metadata": {},
   "source": [
    "Your task is to reconstruct the dataset above. "
   ]
  },
  {
   "cell_type": "markdown",
   "id": "2405d189-8570-4c86-aa35-320a173779a1",
   "metadata": {
    "tags": []
   },
   "source": [
    "### Visualizations"
   ]
  }
 ],
 "metadata": {
  "kernelspec": {
   "display_name": "Python 3 (ipykernel)",
   "language": "python",
   "name": "python3"
  },
  "language_info": {
   "codemirror_mode": {
    "name": "ipython",
    "version": 3
   },
   "file_extension": ".py",
   "mimetype": "text/x-python",
   "name": "python",
   "nbconvert_exporter": "python",
   "pygments_lexer": "ipython3",
   "version": "3.9.13"
  }
 },
 "nbformat": 4,
 "nbformat_minor": 5
}
